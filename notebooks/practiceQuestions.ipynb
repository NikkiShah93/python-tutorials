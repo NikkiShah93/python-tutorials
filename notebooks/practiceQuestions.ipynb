{
 "cells": [
  {
   "cell_type": "code",
   "execution_count": 3,
   "id": "00d81746-ff53-4ce4-8b83-e30a37a2ec24",
   "metadata": {},
   "outputs": [
    {
     "name": "stdout",
     "output_type": "stream",
     "text": [
      "gnirts elpmas\n"
     ]
    }
   ],
   "source": [
    "## reverse a string\n",
    "string = 'sample string'\n",
    "\n",
    "reveresed_string = ''\n",
    "for s in string[::-1]:\n",
    "    reveresed_string += s\n",
    "print(reveresed_string)"
   ]
  },
  {
   "cell_type": "code",
   "execution_count": 6,
   "id": "82306e02-6c8e-4fee-97be-1e1201189f98",
   "metadata": {},
   "outputs": [
    {
     "name": "stdout",
     "output_type": "stream",
     "text": [
      "False\n"
     ]
    }
   ],
   "source": [
    "## Write a Python function to check if a string is a palindrome.\n",
    "def palindrome(s):\n",
    "    if s == s[::-1]:\n",
    "        return True\n",
    "    else:\n",
    "        return False\n",
    "print(palindrome('HeH'))"
   ]
  },
  {
   "cell_type": "code",
   "execution_count": 18,
   "id": "145bc9dd-a1e8-4047-92b6-c0bfe53fa330",
   "metadata": {},
   "outputs": [
    {
     "name": "stdout",
     "output_type": "stream",
     "text": [
      "232.0\n"
     ]
    }
   ],
   "source": [
    "## reverse a number without turning it into string\n",
    "## 323\n",
    "def reverse_num(num):\n",
    "    c = 0\n",
    "    rem = 0\n",
    "    while num%10 > 1:\n",
    "        rem += (num%10)*10**c\n",
    "        num -= num %10\n",
    "        num /= 10\n",
    "        c += 1\n",
    "    return rem\n",
    "        \n",
    "print(reverse_num(232))"
   ]
  },
  {
   "cell_type": "code",
   "execution_count": 21,
   "id": "aaaf11db-1f58-4570-a7c0-8d11682f4958",
   "metadata": {},
   "outputs": [
    {
     "ename": "TypeError",
     "evalue": "object of type 'int' has no len()",
     "output_type": "error",
     "traceback": [
      "\u001b[1;31m---------------------------------------------------------------------------\u001b[0m",
      "\u001b[1;31mTypeError\u001b[0m                                 Traceback (most recent call last)",
      "\u001b[1;32m~\\AppData\\Local\\Temp\\ipykernel_33344\\1772224117.py\u001b[0m in \u001b[0;36m<module>\u001b[1;34m\u001b[0m\n\u001b[0;32m     10\u001b[0m         \u001b[0mc\u001b[0m \u001b[1;33m+=\u001b[0m\u001b[1;36m1\u001b[0m\u001b[1;33m\u001b[0m\u001b[1;33m\u001b[0m\u001b[0m\n\u001b[0;32m     11\u001b[0m         \u001b[0mprint\u001b[0m\u001b[1;33m(\u001b[0m\u001b[0mrem\u001b[0m\u001b[1;33m)\u001b[0m\u001b[1;33m\u001b[0m\u001b[1;33m\u001b[0m\u001b[0m\n\u001b[1;32m---> 12\u001b[1;33m \u001b[0mpalindrome_num\u001b[0m\u001b[1;33m(\u001b[0m\u001b[1;36m323\u001b[0m\u001b[1;33m)\u001b[0m\u001b[1;33m\u001b[0m\u001b[1;33m\u001b[0m\u001b[0m\n\u001b[0m",
      "\u001b[1;32m~\\AppData\\Local\\Temp\\ipykernel_33344\\1772224117.py\u001b[0m in \u001b[0;36mpalindrome_num\u001b[1;34m(num)\u001b[0m\n\u001b[0;32m      2\u001b[0m \u001b[1;31m## 323\u001b[0m\u001b[1;33m\u001b[0m\u001b[1;33m\u001b[0m\u001b[0m\n\u001b[0;32m      3\u001b[0m \u001b[1;32mdef\u001b[0m \u001b[0mpalindrome_num\u001b[0m\u001b[1;33m(\u001b[0m\u001b[0mnum\u001b[0m\u001b[1;33m)\u001b[0m\u001b[1;33m:\u001b[0m\u001b[1;33m\u001b[0m\u001b[1;33m\u001b[0m\u001b[0m\n\u001b[1;32m----> 4\u001b[1;33m     \u001b[0ml\u001b[0m \u001b[1;33m=\u001b[0m \u001b[0mlen\u001b[0m\u001b[1;33m(\u001b[0m\u001b[0mnum\u001b[0m\u001b[1;33m)\u001b[0m\u001b[1;33m\u001b[0m\u001b[1;33m\u001b[0m\u001b[0m\n\u001b[0m\u001b[0;32m      5\u001b[0m     \u001b[0mrem\u001b[0m \u001b[1;33m=\u001b[0m \u001b[1;36m0\u001b[0m\u001b[1;33m\u001b[0m\u001b[1;33m\u001b[0m\u001b[0m\n\u001b[0;32m      6\u001b[0m     \u001b[0mc\u001b[0m \u001b[1;33m=\u001b[0m \u001b[1;36m0\u001b[0m\u001b[1;33m\u001b[0m\u001b[1;33m\u001b[0m\u001b[0m\n",
      "\u001b[1;31mTypeError\u001b[0m: object of type 'int' has no len()"
     ]
    }
   ],
   "source": [
    "## Write a Python function to check if a given number is a palindrome.\n",
    "## 323 \n",
    "def palindrome_num(num):\n",
    "    l = len(num)\n",
    "    rem = 0\n",
    "    c = 0\n",
    "    while l > 0:\n",
    "        rem += (num%10)*10**l\n",
    "        l -=1\n",
    "        c +=1\n",
    "        print(rem)\n",
    "palindrome_num(323)"
   ]
  },
  {
   "cell_type": "code",
   "execution_count": 30,
   "id": "2fe96d40-fffc-4878-b1a9-c1f6f2dbf694",
   "metadata": {},
   "outputs": [
    {
     "name": "stdout",
     "output_type": "stream",
     "text": [
      "4\n",
      "3\n",
      "2\n",
      "24\n"
     ]
    }
   ],
   "source": [
    "## Write a Python function to find the factorial of a number using recursion.\n",
    "## 4 * 3 * 2 * 1 \n",
    "def factorial(num, fac = 1):\n",
    "    if num - 1 > 0:\n",
    "        return factorial(num = (num - 1), fac=fac*(num))\n",
    "    else:\n",
    "        return fac\n",
    "print(factorial(num=4))"
   ]
  },
  {
   "cell_type": "code",
   "execution_count": 31,
   "id": "e2acec14-f59e-4625-87a9-b4e39b24f96a",
   "metadata": {},
   "outputs": [
    {
     "name": "stdout",
     "output_type": "stream",
     "text": [
      "24\n"
     ]
    }
   ],
   "source": [
    "def factorial(n):\n",
    "    if n == 0:\n",
    "        return 1\n",
    "    else:\n",
    "        return n * factorial(n-1)\n",
    "print(factorial(4))"
   ]
  },
  {
   "cell_type": "code",
   "execution_count": 1,
   "id": "a6dc5ad3-9534-407b-a5a3-b7fdacaa03b1",
   "metadata": {},
   "outputs": [
    {
     "name": "stdout",
     "output_type": "stream",
     "text": [
      "24\n"
     ]
    }
   ],
   "source": [
    "## 4! = 4 * 3 * 2 * 1 \n",
    "def factorial(n):\n",
    "    if n == 0:\n",
    "        return 1\n",
    "    return n * factorial(n-1)\n",
    "print(factorial(4))"
   ]
  },
  {
   "cell_type": "code",
   "execution_count": 3,
   "id": "4ca85e7f-2a38-4f62-8aa6-32400d33cc52",
   "metadata": {},
   "outputs": [
    {
     "name": "stdout",
     "output_type": "stream",
     "text": [
      "[1, 3, 4, 5, 6]\n"
     ]
    }
   ],
   "source": [
    "## Write a Python program to remove duplicates from a list while preserving the order.\n",
    "def remove_dups(input_list):\n",
    "    new_list=[]\n",
    "    for i in input_list:\n",
    "        if i in new_list:\n",
    "            continue\n",
    "        new_list.append(i)\n",
    "    return new_list\n",
    "sample_list = [1, 3, 4, 3, 5, 6, 6]\n",
    "print(remove_dups(sample_list))"
   ]
  },
  {
   "cell_type": "code",
   "execution_count": 6,
   "id": "b4cd9000-90ff-492d-8dbc-fbe64c1554c4",
   "metadata": {},
   "outputs": [
    {
     "name": "stdout",
     "output_type": "stream",
     "text": [
      "[1, 3, 4, 5, 6]\n"
     ]
    }
   ],
   "source": [
    "def remove_dups(input_list):\n",
    "    return list(dict.fromkeys(input_list))\n",
    "print(remove_dups(sample_list))"
   ]
  },
  {
   "cell_type": "code",
   "execution_count": 7,
   "id": "dc757abd-665b-49eb-a2f3-e6616bfe2cd5",
   "metadata": {},
   "outputs": [
    {
     "name": "stdout",
     "output_type": "stream",
     "text": [
      "l\n"
     ]
    }
   ],
   "source": [
    "## Write a Python function to find the maximum occurring character in a string.\n",
    "## hello\n",
    "def char_counter(string):\n",
    "    max_occ = 0\n",
    "    max_occ_char = ''\n",
    "    for s in string:\n",
    "        if string.count(s) > max_occ:\n",
    "            max_occ_char = s\n",
    "            max_occ = string.count(s)\n",
    "    return max_occ_char\n",
    "print(char_counter('hello'))"
   ]
  },
  {
   "cell_type": "code",
   "execution_count": 9,
   "id": "0307e7df-ab5f-4cbc-bd9c-377ce2e1c510",
   "metadata": {},
   "outputs": [
    {
     "name": "stdout",
     "output_type": "stream",
     "text": [
      "[0, 1, 1, 2, 3]\n"
     ]
    }
   ],
   "source": [
    "## Write a Python function to generate the Fibonacci sequence up to n numbers.\n",
    "## 5 => 0, 1, 1, 2, 3, 5\n",
    "## 5 => 7\n",
    "def fib(num = 0):\n",
    "    fib = [0, 1]\n",
    "    for n in range(2,num):\n",
    "        fib.append(fib[-1] + fib[-2])\n",
    "    return fib\n",
    "print(fib(5))     "
   ]
  },
  {
   "cell_type": "code",
   "execution_count": 20,
   "id": "5553c50a-ab1b-4654-9f45-b519174e9351",
   "metadata": {},
   "outputs": [
    {
     "data": {
      "text/plain": [
       "[1, 2, 3, 4, 5, 6, 7]"
      ]
     },
     "execution_count": 20,
     "metadata": {},
     "output_type": "execute_result"
    }
   ],
   "source": [
    "## Write a Python function to flatten a nested list.\n",
    "## [[1,2,3], 4, [[5, 6], 7]]\n",
    "def flatten(list_input):\n",
    "    flat_list = []\n",
    "    for item in list_input:\n",
    "        if isinstance(item, list):\n",
    "            flat_list.extend(flatten(item))\n",
    "        else:\n",
    "            flat_list.append(item)\n",
    "    return flat_list\n",
    "test_list = [[1,2,3], 4, [[5, 6], 7]]\n",
    "flatten(test_list)"
   ]
  },
  {
   "cell_type": "code",
   "execution_count": 21,
   "id": "e7551e6a-0405-4799-89a3-d13bfdd200dc",
   "metadata": {},
   "outputs": [
    {
     "name": "stdout",
     "output_type": "stream",
     "text": [
      "[1, 1, 2, 2, 1, 2, 2]\n"
     ]
    }
   ],
   "source": [
    "## [1,[1,2],2,[[[1],2], 2]]\n",
    "def flatten(input_list):\n",
    "    flat_list = []\n",
    "    for item in input_list:\n",
    "        if isinstance(item, list):\n",
    "            flat_list.extend(flatten(item))\n",
    "        else:\n",
    "            flat_list.append(item)\n",
    "    return flat_list\n",
    "print(flatten([1,[1,2],2,[[[1],2], 2]]))"
   ]
  },
  {
   "cell_type": "code",
   "execution_count": 23,
   "id": "f52a19b0-8d5e-4944-9a55-3f8f77b5e7aa",
   "metadata": {},
   "outputs": [
    {
     "name": "stdout",
     "output_type": "stream",
     "text": [
      "8\n"
     ]
    }
   ],
   "source": [
    "## Write a Python function to find the largest number in a list.\n",
    "## [1,3,5,1,2,8,7,3] >> 8\n",
    "def largest(input_list):\n",
    "    new_set = set(input_list)\n",
    "    large_num = 0\n",
    "    for x in new_set:\n",
    "        if x >= large_num:\n",
    "            large_num = x\n",
    "    return x\n",
    "print(largest([1,3,5,1,2,8,7,3]))"
   ]
  },
  {
   "cell_type": "code",
   "execution_count": 25,
   "id": "de52be2f-ee3e-4526-ac0c-3ccc6379bc1e",
   "metadata": {},
   "outputs": [
    {
     "name": "stdout",
     "output_type": "stream",
     "text": [
      "7\n"
     ]
    }
   ],
   "source": [
    "## Write a Python function to find the second largest number in a list.\n",
    "## [1,3,5,1,2,8,7,3] >> 7\n",
    "def second_largest(input_list):\n",
    "    new_list = list(set(input_list))\n",
    "    new_list.sort()\n",
    "    return new_list[-2]\n",
    "print(second_largest([1,3,5,1,2,8,7,3]))"
   ]
  },
  {
   "cell_type": "code",
   "execution_count": 27,
   "id": "4957cc06-5161-451c-b2af-c7260fa7c8be",
   "metadata": {},
   "outputs": [
    {
     "name": "stdout",
     "output_type": "stream",
     "text": [
      "{'This': 1, 'is': 1, 'a': 2, 'test': 2, 'example': 2, 'for': 1}\n"
     ]
    }
   ],
   "source": [
    "## Write a Python function to count the frequency of words in a string.\n",
    "def words_counter(string):\n",
    "    string = string.split()\n",
    "    counter = {}\n",
    "    for w in string:\n",
    "        if w.strip(',') in counter:\n",
    "            counter[w.strip(',')] += 1\n",
    "        else:\n",
    "            counter[w.strip(',')] = 1\n",
    "    return counter\n",
    "print(words_counter('This is a test, a test, example, for example'))"
   ]
  },
  {
   "cell_type": "code",
   "execution_count": 28,
   "id": "7e416d6e-ba42-4aa9-9a8c-9df1eed3f326",
   "metadata": {},
   "outputs": [
    {
     "name": "stdout",
     "output_type": "stream",
     "text": [
      "True\n"
     ]
    }
   ],
   "source": [
    "## Write a Python function to check if two strings are anagrams.\n",
    "## abcd & cdab\n",
    "def anagrams(s1, s2):\n",
    "    if set(s1) == set(s2):\n",
    "        return True\n",
    "    return False\n",
    "print(anagrams('abcd', 'cdab'))"
   ]
  },
  {
   "cell_type": "code",
   "execution_count": null,
   "id": "ccf19483-1b69-49a1-84d3-5e01c9007b6c",
   "metadata": {},
   "outputs": [],
   "source": [
    "## Write a Python function to merge two sorted linked lists into a single sorted linked list.\n"
   ]
  },
  {
   "cell_type": "code",
   "execution_count": 32,
   "id": "c16e3894-4ba9-4150-a99e-71381b58a35d",
   "metadata": {},
   "outputs": [
    {
     "name": "stdout",
     "output_type": "stream",
     "text": [
      "substring\n"
     ]
    }
   ],
   "source": [
    "## Write a Python function to find the longest substring without repeating characters.\n",
    "def long_substring(string):\n",
    "    long_str = ''\n",
    "    for c in string.split():\n",
    "        if len(set(c)) > len(set(long_str)):\n",
    "            long_str = c\n",
    "    return long_str\n",
    "test_string = 'This is a test string, to find the longest substring sssssrrrrrggggg!'\n",
    "print(long_substring(test_string))"
   ]
  },
  {
   "cell_type": "code",
   "execution_count": null,
   "id": "de288a51-7e37-408a-8560-a79d1f9215c9",
   "metadata": {},
   "outputs": [],
   "source": [
    "## Write a Python function to solve the \"n-queens\" problem (placing n queens on a chessboard so no two queens threaten each other).\n"
   ]
  },
  {
   "cell_type": "code",
   "execution_count": 36,
   "id": "a24e97ed-542c-4f93-a82b-b6e62c08c60f",
   "metadata": {},
   "outputs": [
    {
     "name": "stdout",
     "output_type": "stream",
     "text": [
      "10\n"
     ]
    }
   ],
   "source": [
    "## Write a Python function to find the kth largest element in an unsorted array.\n",
    "\n",
    "def kth_largest(k, array):\n",
    "    sorted_list = list(set(array)).sort()\n",
    "    return array[-k]\n",
    "print(kth_largest(1, [2,4,1,5,3,6,2,6,7,10]))"
   ]
  },
  {
   "cell_type": "code",
   "execution_count": null,
   "id": "aa7ec4ed-7c8e-4306-b77b-80c0a481ea5d",
   "metadata": {},
   "outputs": [],
   "source": [
    "## Write a Python function that returns all the possible subsets of a set.\n",
    "## {1, 2, 3, 4, 5, 6} ## {1}, {1, 2}\n",
    "def subsets(input_set):\n",
    "    for item in input_set:\n",
    "        pass"
   ]
  },
  {
   "cell_type": "code",
   "execution_count": 47,
   "id": "c7a1bdf6-cd3b-4003-839d-3d50248f7996",
   "metadata": {},
   "outputs": [
    {
     "data": {
      "text/plain": [
       "[0, 1, 1, 2, 3, 5]"
      ]
     },
     "execution_count": 47,
     "metadata": {},
     "output_type": "execute_result"
    }
   ],
   "source": [
    "## Write a Python generator function to yield Fibonacci numbers indefinitely.\n",
    "def fib(a = 0, b=1, k=1):\n",
    "    n = 0\n",
    "    while n <= k:\n",
    "        n += 1\n",
    "        yield a\n",
    "        a, b = b, a+b\n",
    "list(fib(k=5))"
   ]
  },
  {
   "cell_type": "code",
   "execution_count": null,
   "id": "e4968fcc-7408-49f7-ad5d-24ea21d68113",
   "metadata": {},
   "outputs": [],
   "source": [
    "## Write a Python function to calculate the least common ancestor (LCA) of two nodes in a binary tree.\n"
   ]
  },
  {
   "cell_type": "code",
   "execution_count": null,
   "id": "79beb4ff-41f1-43a5-904c-c44bcd492821",
   "metadata": {},
   "outputs": [],
   "source": [
    "## Write a Python function to solve a Sudoku puzzle.\n",
    "\n"
   ]
  },
  {
   "cell_type": "code",
   "execution_count": 56,
   "id": "bcdd53e4-d195-4922-b9e8-099dc74ec9bc",
   "metadata": {},
   "outputs": [
    {
     "name": "stdout",
     "output_type": "stream",
     "text": [
      "True\n",
      "False\n"
     ]
    }
   ],
   "source": [
    "## Given a positive integer num, write a function that returns True if num is a perfect square else False.\n",
    "## 4 => True\n",
    "## 3 => False\n",
    "def perfect_sqr(num):\n",
    "    if int(num**0.5)**2 == num:\n",
    "        return True\n",
    "    return False\n",
    "print(perfect_sqr(4))\n",
    "print(perfect_sqr(3))"
   ]
  },
  {
   "cell_type": "code",
   "execution_count": 57,
   "id": "ad34917b-61a0-4a37-98d4-c4e188a38eea",
   "metadata": {},
   "outputs": [
    {
     "name": "stdout",
     "output_type": "stream",
     "text": [
      "True\n",
      "False\n"
     ]
    }
   ],
   "source": [
    "## You are provided with a large string and a dictionary of the words. \n",
    "## You have to find if the input string can be segmented into words using the dictionary or not.\n",
    "## {'sample', 'dict', 'question'}\n",
    "## 'sample dict' => True\n",
    "## 'easy sample dict' => Fasle\n",
    "def string_finder(input_dict:dict,\n",
    "                 string:str):\n",
    "    for word in string.split():\n",
    "        if word in input_dict:\n",
    "            continue\n",
    "        else:\n",
    "            return False\n",
    "    return True\n",
    "sample_dict = {'sample', 'dict', 'question'}\n",
    "s1 = 'sample dict'\n",
    "s2 = 'easy sample dict'\n",
    "print(string_finder(input_dict=sample_dict,\n",
    "                   string=s1))\n",
    "print(string_finder(input_dict=sample_dict,\n",
    "                   string=s2))"
   ]
  },
  {
   "cell_type": "code",
   "execution_count": 60,
   "id": "012b0002-656b-405e-9cfc-ebb73dcaeeda",
   "metadata": {},
   "outputs": [
    {
     "name": "stdout",
     "output_type": "stream",
     "text": [
      "[1, 2, 3, 4, 5]\n"
     ]
    }
   ],
   "source": [
    "## Remove duplicates from sorted array\n",
    "## [1, 2, 2, 3, 4, 4, 5]\n",
    "## [1,2,3,4,5]\n",
    "def remove_dups(input_list):\n",
    "    unique_list = []\n",
    "    for l in input_list:\n",
    "        if l not in unique_list:\n",
    "            unique_list.append(l)\n",
    "    return unique_list\n",
    "print(remove_dups([1, 2, 2, 3, 4, 4, 5]))"
   ]
  },
  {
   "cell_type": "code",
   "execution_count": 65,
   "id": "9d0098c0-2f32-4e85-a17d-94907de10ed1",
   "metadata": {},
   "outputs": [
    {
     "name": "stdout",
     "output_type": "stream",
     "text": [
      "(1, 4)\n"
     ]
    }
   ],
   "source": [
    "# Problem: Given an array of integers nums and an integer target,\n",
    "# return indices of the two numbers such that they add up to target.\n",
    "## array = [0, 1, 2, 3, 4], target = 2\n",
    "def two_sum(array:list,\n",
    "            target:int):\n",
    "    if target > sum(array):\n",
    "        return False\n",
    "    for i, num in enumerate(array):\n",
    "        second_num = target - num\n",
    "        if second_num in array:\n",
    "            return (i, array.index(second_num))\n",
    "print(two_sum(array = [0, 1, 2, 3, 4], target = 5))"
   ]
  },
  {
   "cell_type": "code",
   "execution_count": 72,
   "id": "0bc34c0f-f1de-498a-bb95-9859286087e6",
   "metadata": {},
   "outputs": [
    {
     "ename": "TypeError",
     "evalue": "'LinkedList' object is not iterable",
     "output_type": "error",
     "traceback": [
      "\u001b[1;31m---------------------------------------------------------------------------\u001b[0m",
      "\u001b[1;31mTypeError\u001b[0m                                 Traceback (most recent call last)",
      "\u001b[1;32m~\\AppData\\Local\\Temp\\ipykernel_23348\\2531237959.py\u001b[0m in \u001b[0;36m<module>\u001b[1;34m\u001b[0m\n\u001b[0;32m     16\u001b[0m \u001b[1;33m\u001b[0m\u001b[0m\n\u001b[0;32m     17\u001b[0m \u001b[0mll\u001b[0m \u001b[1;33m=\u001b[0m \u001b[0mLinkedList\u001b[0m\u001b[1;33m(\u001b[0m\u001b[0mval\u001b[0m\u001b[1;33m=\u001b[0m\u001b[1;36m5\u001b[0m\u001b[1;33m,\u001b[0m \u001b[0mnext\u001b[0m\u001b[1;33m=\u001b[0m\u001b[1;36m6\u001b[0m\u001b[1;33m)\u001b[0m\u001b[1;33m\u001b[0m\u001b[1;33m\u001b[0m\u001b[0m\n\u001b[1;32m---> 18\u001b[1;33m \u001b[0mprint\u001b[0m\u001b[1;33m(\u001b[0m\u001b[0mtype\u001b[0m\u001b[1;33m(\u001b[0m\u001b[0mll\u001b[0m\u001b[1;33m)\u001b[0m\u001b[1;33m,\u001b[0m \u001b[0mlist\u001b[0m\u001b[1;33m(\u001b[0m\u001b[0mll\u001b[0m\u001b[1;33m)\u001b[0m\u001b[1;33m)\u001b[0m\u001b[1;33m\u001b[0m\u001b[1;33m\u001b[0m\u001b[0m\n\u001b[0m\u001b[0;32m     19\u001b[0m \u001b[0mreturn_head\u001b[0m\u001b[1;33m(\u001b[0m\u001b[0mll\u001b[0m\u001b[1;33m)\u001b[0m\u001b[1;33m\u001b[0m\u001b[1;33m\u001b[0m\u001b[0m\n",
      "\u001b[1;31mTypeError\u001b[0m: 'LinkedList' object is not iterable"
     ]
    }
   ],
   "source": [
    "## Given the head of a singly linked list, \n",
    "## reverse the list and return its head.\n",
    "class LinkedList:\n",
    "    def __init__(self, val=0, next=None):\n",
    "        self.val = val\n",
    "        self.next = next\n",
    "def return_head(head):\n",
    "    prev = None\n",
    "    current = head\n",
    "    while current:\n",
    "        next_node = current.next\n",
    "        current.next = prev\n",
    "        prev = current\n",
    "        current = next_node\n",
    "    return prev\n",
    "\n",
    "ll = LinkedList(val=5, next=6)\n",
    "print(type(ll))\n",
    "return_head(ll)"
   ]
  },
  {
   "cell_type": "code",
   "execution_count": 76,
   "id": "36c26c6a-59dc-477f-b8df-845ce6521d19",
   "metadata": {},
   "outputs": [
    {
     "name": "stdout",
     "output_type": "stream",
     "text": [
      "False\n",
      "True\n"
     ]
    }
   ],
   "source": [
    "##  Given a string containing just the characters (, ), {, }, [, and ], \n",
    "## determine if the input string is valid.\n",
    "def string_is_valid(string:str):\n",
    "    mapping = {\n",
    "        '(':')',\n",
    "        '{':'}',\n",
    "        '[':']'\n",
    "    }\n",
    "    for key in mapping:\n",
    "        if key in string and mapping[key] not in string:\n",
    "            return False\n",
    "    return True\n",
    "print(string_is_valid('(This is a test!')) ## False\n",
    "print(string_is_valid('(This is a test!)')) ## True"
   ]
  },
  {
   "cell_type": "code",
   "execution_count": 77,
   "id": "89f2e861-ab78-4940-b9fb-f52a1bbf8dd1",
   "metadata": {},
   "outputs": [
    {
     "name": "stdout",
     "output_type": "stream",
     "text": [
      "4\n"
     ]
    }
   ],
   "source": [
    "## Given an array containing n distinct numbers in the range [0, n], \n",
    "## find the missing number.\n",
    "## [0, 1, 2, 3, 5] => 4\n",
    "def find_missing_num(array:list):\n",
    "    array.sort()\n",
    "    largest = array[-1]\n",
    "    for i in range(largest):\n",
    "        if i not in array:\n",
    "            return i\n",
    "    return True\n",
    "print(find_missing_num([0, 1, 2, 3, 5]))"
   ]
  },
  {
   "cell_type": "code",
   "execution_count": 83,
   "id": "4145c2c5-3884-4b8c-966b-aa6cd501ab4a",
   "metadata": {},
   "outputs": [
    {
     "name": "stdout",
     "output_type": "stream",
     "text": [
      "5\n"
     ]
    }
   ],
   "source": [
    "## Given a string s, find the length of the longest substring without repeating characters.\n",
    "## Hello => 4\n",
    "def find_length(string:str):\n",
    "    set_string = [set(s) for s in string.split()]\n",
    "    set_string.sort()\n",
    "    return len(set_string[-1])\n",
    "print(find_length('Hello World'))"
   ]
  },
  {
   "cell_type": "code",
   "execution_count": null,
   "id": "45b8867f-1d7d-44ab-b4b4-5153960196e2",
   "metadata": {},
   "outputs": [],
   "source": [
    "## Given a collection of intervals, merge all overlapping intervals."
   ]
  },
  {
   "cell_type": "code",
   "execution_count": 94,
   "id": "61e5f0e4-734c-482b-9d23-cfaed99004f2",
   "metadata": {},
   "outputs": [
    {
     "name": "stdout",
     "output_type": "stream",
     "text": [
      "[1, 2, 3, 0, 0, 0] [2, 5, 6]\n",
      "1 2\n",
      "2 2\n",
      "True\n",
      "1 5\n",
      "2 5\n",
      "2 5\n",
      "3 5\n",
      "1 6\n",
      "2 6\n",
      "2 6\n",
      "3 6\n",
      "[1, 2, 2, 3, 0, 0]\n"
     ]
    }
   ],
   "source": [
    "def merge_arrays(nums1, m, nums2, n):\n",
    "    print(nums1, nums2)\n",
    "    if n == 0:\n",
    "        return nums1\n",
    "    if nums1[m] >= nums2[n]:\n",
    "        \n",
    "    # for i in range(n):\n",
    "    #     for j in range(m):\n",
    "    #         print(nums1[j], nums2[i])\n",
    "    #         if nums1[j] >= nums2[i]:\n",
    "    #             print(True)\n",
    "    #             nums1.insert(j,nums2[i])\n",
    "    #             nums1.pop(-1)\n",
    "    #             m += 1\n",
    "    #             break\n",
    "    return nums1\n",
    "print(merge_arrays(nums1 = [1,2,3,0,0,0], m = 3, nums2 = [2,5,6], n = 3))"
   ]
  },
  {
   "cell_type": "code",
   "execution_count": null,
   "id": "ad78334b-8cc4-43f4-ba16-03d484ed9a3d",
   "metadata": {},
   "outputs": [],
   "source": []
  }
 ],
 "metadata": {
  "kernelspec": {
   "display_name": "Python 3 (ipykernel)",
   "language": "python",
   "name": "python3"
  },
  "language_info": {
   "codemirror_mode": {
    "name": "ipython",
    "version": 3
   },
   "file_extension": ".py",
   "mimetype": "text/x-python",
   "name": "python",
   "nbconvert_exporter": "python",
   "pygments_lexer": "ipython3",
   "version": "3.9.13"
  }
 },
 "nbformat": 4,
 "nbformat_minor": 5
}
