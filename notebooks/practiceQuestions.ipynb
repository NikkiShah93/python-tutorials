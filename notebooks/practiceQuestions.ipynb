{
 "cells": [
  {
   "cell_type": "code",
   "execution_count": 3,
   "id": "00d81746-ff53-4ce4-8b83-e30a37a2ec24",
   "metadata": {},
   "outputs": [
    {
     "name": "stdout",
     "output_type": "stream",
     "text": [
      "gnirts elpmas\n"
     ]
    }
   ],
   "source": [
    "## reverse a string\n",
    "string = 'sample string'\n",
    "\n",
    "reveresed_string = ''\n",
    "for s in string[::-1]:\n",
    "    reveresed_string += s\n",
    "print(reveresed_string)"
   ]
  },
  {
   "cell_type": "code",
   "execution_count": 6,
   "id": "82306e02-6c8e-4fee-97be-1e1201189f98",
   "metadata": {},
   "outputs": [
    {
     "name": "stdout",
     "output_type": "stream",
     "text": [
      "False\n"
     ]
    }
   ],
   "source": [
    "## Write a Python function to check if a string is a palindrome.\n",
    "def palindrome(s):\n",
    "    if s == s[::-1]:\n",
    "        return True\n",
    "    else:\n",
    "        return False\n",
    "print(palindrome('HeH'))"
   ]
  },
  {
   "cell_type": "code",
   "execution_count": 18,
   "id": "145bc9dd-a1e8-4047-92b6-c0bfe53fa330",
   "metadata": {},
   "outputs": [
    {
     "name": "stdout",
     "output_type": "stream",
     "text": [
      "232.0\n"
     ]
    }
   ],
   "source": [
    "## reverse a number without turning it into string\n",
    "## 323\n",
    "def reverse_num(num):\n",
    "    c = 0\n",
    "    rem = 0\n",
    "    while num%10 > 1:\n",
    "        rem += (num%10)*10**c\n",
    "        num -= num %10\n",
    "        num /= 10\n",
    "        c += 1\n",
    "    return rem\n",
    "        \n",
    "print(reverse_num(232))"
   ]
  },
  {
   "cell_type": "code",
   "execution_count": 21,
   "id": "aaaf11db-1f58-4570-a7c0-8d11682f4958",
   "metadata": {},
   "outputs": [
    {
     "ename": "TypeError",
     "evalue": "object of type 'int' has no len()",
     "output_type": "error",
     "traceback": [
      "\u001b[1;31m---------------------------------------------------------------------------\u001b[0m",
      "\u001b[1;31mTypeError\u001b[0m                                 Traceback (most recent call last)",
      "\u001b[1;32m~\\AppData\\Local\\Temp\\ipykernel_33344\\1772224117.py\u001b[0m in \u001b[0;36m<module>\u001b[1;34m\u001b[0m\n\u001b[0;32m     10\u001b[0m         \u001b[0mc\u001b[0m \u001b[1;33m+=\u001b[0m\u001b[1;36m1\u001b[0m\u001b[1;33m\u001b[0m\u001b[1;33m\u001b[0m\u001b[0m\n\u001b[0;32m     11\u001b[0m         \u001b[0mprint\u001b[0m\u001b[1;33m(\u001b[0m\u001b[0mrem\u001b[0m\u001b[1;33m)\u001b[0m\u001b[1;33m\u001b[0m\u001b[1;33m\u001b[0m\u001b[0m\n\u001b[1;32m---> 12\u001b[1;33m \u001b[0mpalindrome_num\u001b[0m\u001b[1;33m(\u001b[0m\u001b[1;36m323\u001b[0m\u001b[1;33m)\u001b[0m\u001b[1;33m\u001b[0m\u001b[1;33m\u001b[0m\u001b[0m\n\u001b[0m",
      "\u001b[1;32m~\\AppData\\Local\\Temp\\ipykernel_33344\\1772224117.py\u001b[0m in \u001b[0;36mpalindrome_num\u001b[1;34m(num)\u001b[0m\n\u001b[0;32m      2\u001b[0m \u001b[1;31m## 323\u001b[0m\u001b[1;33m\u001b[0m\u001b[1;33m\u001b[0m\u001b[0m\n\u001b[0;32m      3\u001b[0m \u001b[1;32mdef\u001b[0m \u001b[0mpalindrome_num\u001b[0m\u001b[1;33m(\u001b[0m\u001b[0mnum\u001b[0m\u001b[1;33m)\u001b[0m\u001b[1;33m:\u001b[0m\u001b[1;33m\u001b[0m\u001b[1;33m\u001b[0m\u001b[0m\n\u001b[1;32m----> 4\u001b[1;33m     \u001b[0ml\u001b[0m \u001b[1;33m=\u001b[0m \u001b[0mlen\u001b[0m\u001b[1;33m(\u001b[0m\u001b[0mnum\u001b[0m\u001b[1;33m)\u001b[0m\u001b[1;33m\u001b[0m\u001b[1;33m\u001b[0m\u001b[0m\n\u001b[0m\u001b[0;32m      5\u001b[0m     \u001b[0mrem\u001b[0m \u001b[1;33m=\u001b[0m \u001b[1;36m0\u001b[0m\u001b[1;33m\u001b[0m\u001b[1;33m\u001b[0m\u001b[0m\n\u001b[0;32m      6\u001b[0m     \u001b[0mc\u001b[0m \u001b[1;33m=\u001b[0m \u001b[1;36m0\u001b[0m\u001b[1;33m\u001b[0m\u001b[1;33m\u001b[0m\u001b[0m\n",
      "\u001b[1;31mTypeError\u001b[0m: object of type 'int' has no len()"
     ]
    }
   ],
   "source": [
    "## Write a Python function to check if a given number is a palindrome.\n",
    "## 323 \n",
    "def palindrome_num(num):\n",
    "    l = len(num)\n",
    "    rem = 0\n",
    "    c = 0\n",
    "    while l > 0:\n",
    "        rem += (num%10)*10**l\n",
    "        l -=1\n",
    "        c +=1\n",
    "        print(rem)\n",
    "palindrome_num(323)"
   ]
  },
  {
   "cell_type": "code",
   "execution_count": 30,
   "id": "2fe96d40-fffc-4878-b1a9-c1f6f2dbf694",
   "metadata": {},
   "outputs": [
    {
     "name": "stdout",
     "output_type": "stream",
     "text": [
      "4\n",
      "3\n",
      "2\n",
      "24\n"
     ]
    }
   ],
   "source": [
    "## Write a Python function to find the factorial of a number using recursion.\n",
    "## 4 * 3 * 2 * 1 \n",
    "def factorial(num, fac = 1):\n",
    "    if num - 1 > 0:\n",
    "        return factorial(num = (num - 1), fac=fac*(num))\n",
    "    else:\n",
    "        return fac\n",
    "print(factorial(num=4))"
   ]
  },
  {
   "cell_type": "code",
   "execution_count": 31,
   "id": "e2acec14-f59e-4625-87a9-b4e39b24f96a",
   "metadata": {},
   "outputs": [
    {
     "name": "stdout",
     "output_type": "stream",
     "text": [
      "24\n"
     ]
    }
   ],
   "source": [
    "def factorial(n):\n",
    "    if n == 0:\n",
    "        return 1\n",
    "    else:\n",
    "        return n * factorial(n-1)\n",
    "print(factorial(4))"
   ]
  },
  {
   "cell_type": "code",
   "execution_count": 1,
   "id": "a6dc5ad3-9534-407b-a5a3-b7fdacaa03b1",
   "metadata": {},
   "outputs": [
    {
     "name": "stdout",
     "output_type": "stream",
     "text": [
      "24\n"
     ]
    }
   ],
   "source": [
    "## 4! = 4 * 3 * 2 * 1 \n",
    "def factorial(n):\n",
    "    if n == 0:\n",
    "        return 1\n",
    "    return n * factorial(n-1)\n",
    "print(factorial(4))"
   ]
  },
  {
   "cell_type": "code",
   "execution_count": 3,
   "id": "4ca85e7f-2a38-4f62-8aa6-32400d33cc52",
   "metadata": {},
   "outputs": [
    {
     "name": "stdout",
     "output_type": "stream",
     "text": [
      "[1, 3, 4, 5, 6]\n"
     ]
    }
   ],
   "source": [
    "## Write a Python program to remove duplicates from a list while preserving the order.\n",
    "def remove_dups(input_list):\n",
    "    new_list=[]\n",
    "    for i in input_list:\n",
    "        if i in new_list:\n",
    "            continue\n",
    "        new_list.append(i)\n",
    "    return new_list\n",
    "sample_list = [1, 3, 4, 3, 5, 6, 6]\n",
    "print(remove_dups(sample_list))"
   ]
  },
  {
   "cell_type": "code",
   "execution_count": 6,
   "id": "b4cd9000-90ff-492d-8dbc-fbe64c1554c4",
   "metadata": {},
   "outputs": [
    {
     "name": "stdout",
     "output_type": "stream",
     "text": [
      "[1, 3, 4, 5, 6]\n"
     ]
    }
   ],
   "source": [
    "def remove_dups(input_list):\n",
    "    return list(dict.fromkeys(input_list))\n",
    "print(remove_dups(sample_list))"
   ]
  },
  {
   "cell_type": "code",
   "execution_count": 7,
   "id": "dc757abd-665b-49eb-a2f3-e6616bfe2cd5",
   "metadata": {},
   "outputs": [
    {
     "name": "stdout",
     "output_type": "stream",
     "text": [
      "l\n"
     ]
    }
   ],
   "source": [
    "## Write a Python function to find the maximum occurring character in a string.\n",
    "## hello\n",
    "def char_counter(string):\n",
    "    max_occ = 0\n",
    "    max_occ_char = ''\n",
    "    for s in string:\n",
    "        if string.count(s) > max_occ:\n",
    "            max_occ_char = s\n",
    "            max_occ = string.count(s)\n",
    "    return max_occ_char\n",
    "print(char_counter('hello'))"
   ]
  },
  {
   "cell_type": "code",
   "execution_count": 9,
   "id": "0307e7df-ab5f-4cbc-bd9c-377ce2e1c510",
   "metadata": {},
   "outputs": [
    {
     "name": "stdout",
     "output_type": "stream",
     "text": [
      "[0, 1, 1, 2, 3]\n"
     ]
    }
   ],
   "source": [
    "## Write a Python function to generate the Fibonacci sequence up to n numbers.\n",
    "## 5 => 0, 1, 1, 2, 3, 5\n",
    "## 5 => 7\n",
    "def fib(num = 0):\n",
    "    fib = [0, 1]\n",
    "    for n in range(2,num):\n",
    "        fib.append(fib[-1] + fib[-2])\n",
    "    return fib\n",
    "print(fib(5))     "
   ]
  },
  {
   "cell_type": "code",
   "execution_count": 20,
   "id": "5553c50a-ab1b-4654-9f45-b519174e9351",
   "metadata": {},
   "outputs": [
    {
     "data": {
      "text/plain": [
       "[1, 2, 3, 4, 5, 6, 7]"
      ]
     },
     "execution_count": 20,
     "metadata": {},
     "output_type": "execute_result"
    }
   ],
   "source": [
    "## Write a Python function to flatten a nested list.\n",
    "## [[1,2,3], 4, [[5, 6], 7]]\n",
    "def flatten(list_input):\n",
    "    flat_list = []\n",
    "    for item in list_input:\n",
    "        if isinstance(item, list):\n",
    "            flat_list.extend(flatten(item))\n",
    "        else:\n",
    "            flat_list.append(item)\n",
    "    return flat_list\n",
    "test_list = [[1,2,3], 4, [[5, 6], 7]]\n",
    "flatten(test_list)"
   ]
  },
  {
   "cell_type": "code",
   "execution_count": 21,
   "id": "e7551e6a-0405-4799-89a3-d13bfdd200dc",
   "metadata": {},
   "outputs": [
    {
     "name": "stdout",
     "output_type": "stream",
     "text": [
      "[1, 1, 2, 2, 1, 2, 2]\n"
     ]
    }
   ],
   "source": [
    "## [1,[1,2],2,[[[1],2], 2]]\n",
    "def flatten(input_list):\n",
    "    flat_list = []\n",
    "    for item in input_list:\n",
    "        if isinstance(item, list):\n",
    "            flat_list.extend(flatten(item))\n",
    "        else:\n",
    "            flat_list.append(item)\n",
    "    return flat_list\n",
    "print(flatten([1,[1,2],2,[[[1],2], 2]]))"
   ]
  },
  {
   "cell_type": "code",
   "execution_count": 18,
   "id": "f52a19b0-8d5e-4944-9a55-3f8f77b5e7aa",
   "metadata": {},
   "outputs": [
    {
     "ename": "TypeError",
     "evalue": "'int' object is not iterable",
     "output_type": "error",
     "traceback": [
      "\u001b[1;31m---------------------------------------------------------------------------\u001b[0m",
      "\u001b[1;31mTypeError\u001b[0m                                 Traceback (most recent call last)",
      "\u001b[1;32m~\\AppData\\Local\\Temp\\ipykernel_23348\\3397449528.py\u001b[0m in \u001b[0;36m<module>\u001b[1;34m\u001b[0m\n\u001b[1;32m----> 1\u001b[1;33m \u001b[1;32mfor\u001b[0m \u001b[0mi\u001b[0m \u001b[1;32min\u001b[0m \u001b[0mlen\u001b[0m\u001b[1;33m(\u001b[0m\u001b[0mnew_list\u001b[0m\u001b[1;33m)\u001b[0m\u001b[1;33m:\u001b[0m\u001b[1;33m\u001b[0m\u001b[1;33m\u001b[0m\u001b[0m\n\u001b[0m\u001b[0;32m      2\u001b[0m     \u001b[1;32mfor\u001b[0m \u001b[0mp\u001b[0m \u001b[1;32min\u001b[0m \u001b[0mnew_list\u001b[0m\u001b[1;33m.\u001b[0m\u001b[0mpop\u001b[0m\u001b[1;33m(\u001b[0m\u001b[0mi\u001b[0m\u001b[1;33m)\u001b[0m\u001b[1;33m:\u001b[0m\u001b[1;33m\u001b[0m\u001b[1;33m\u001b[0m\u001b[0m\n\u001b[0;32m      3\u001b[0m         \u001b[0mflat_list\u001b[0m\u001b[1;33m.\u001b[0m\u001b[0mappend\u001b[0m\u001b[1;33m(\u001b[0m\u001b[0mp\u001b[0m\u001b[1;33m)\u001b[0m\u001b[1;33m\u001b[0m\u001b[1;33m\u001b[0m\u001b[0m\n\u001b[0;32m      4\u001b[0m \u001b[0mprint\u001b[0m\u001b[1;33m(\u001b[0m\u001b[0mflat_list\u001b[0m\u001b[1;33m)\u001b[0m\u001b[1;33m\u001b[0m\u001b[1;33m\u001b[0m\u001b[0m\n",
      "\u001b[1;31mTypeError\u001b[0m: 'int' object is not iterable"
     ]
    }
   ],
   "source": [
    "## Write a Python function to find the second largest number in a list.\n",
    "## [1,3,5,1,2,8,7,3] >> 7\n",
    "def second_largest(input_list):\n",
    "    new_set = set(input_list)\n",
    "    large_num = 0\n",
    "    for x in new_set:\n",
    "        if x >= large_num:\n",
    "            large_num = "
   ]
  },
  {
   "cell_type": "code",
   "execution_count": null,
   "id": "de52be2f-ee3e-4526-ac0c-3ccc6379bc1e",
   "metadata": {},
   "outputs": [],
   "source": []
  }
 ],
 "metadata": {
  "kernelspec": {
   "display_name": "Python 3 (ipykernel)",
   "language": "python",
   "name": "python3"
  },
  "language_info": {
   "codemirror_mode": {
    "name": "ipython",
    "version": 3
   },
   "file_extension": ".py",
   "mimetype": "text/x-python",
   "name": "python",
   "nbconvert_exporter": "python",
   "pygments_lexer": "ipython3",
   "version": "3.9.13"
  }
 },
 "nbformat": 4,
 "nbformat_minor": 5
}
