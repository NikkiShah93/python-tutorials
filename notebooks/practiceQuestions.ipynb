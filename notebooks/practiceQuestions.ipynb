{
 "cells": [
  {
   "cell_type": "code",
   "execution_count": 3,
   "id": "00d81746-ff53-4ce4-8b83-e30a37a2ec24",
   "metadata": {},
   "outputs": [
    {
     "name": "stdout",
     "output_type": "stream",
     "text": [
      "gnirts elpmas\n"
     ]
    }
   ],
   "source": [
    "## reverse a string\n",
    "string = 'sample string'\n",
    "\n",
    "reveresed_string = ''\n",
    "for s in string[::-1]:\n",
    "    reveresed_string += s\n",
    "print(reveresed_string)"
   ]
  },
  {
   "cell_type": "code",
   "execution_count": null,
   "id": "82306e02-6c8e-4fee-97be-1e1201189f98",
   "metadata": {},
   "outputs": [],
   "source": []
  }
 ],
 "metadata": {
  "kernelspec": {
   "display_name": "Python 3 (ipykernel)",
   "language": "python",
   "name": "python3"
  },
  "language_info": {
   "codemirror_mode": {
    "name": "ipython",
    "version": 3
   },
   "file_extension": ".py",
   "mimetype": "text/x-python",
   "name": "python",
   "nbconvert_exporter": "python",
   "pygments_lexer": "ipython3",
   "version": "3.9.13"
  }
 },
 "nbformat": 4,
 "nbformat_minor": 5
}
