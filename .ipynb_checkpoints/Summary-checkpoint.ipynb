{
 "cells": [
  {
   "cell_type": "markdown",
   "id": "8b5005fc-3cb1-41d1-b515-e323af58375a",
   "metadata": {},
   "source": [
    "## Python Tutorial\n",
    "\n",
    "Why do you need to learn Python?\n",
    "\n",
    "\n",
    "\n",
    "In this course, we will be going through the following topics:\n",
    "1. Getting Started | Setup: Download and Install\n",
    "2. Data Structures\n",
    "3. Operations\n",
    "4. Conditions and Loops\n",
    "5. Functions and Scope\n",
    "6. Modules\n",
    "7. Errors and Exceptions\n",
    "8. Working with Data\n",
    "9. Classes"
   ]
  },
  {
   "cell_type": "markdown",
   "id": "e424f126-c101-473e-ac92-271ae6c47415",
   "metadata": {},
   "source": [
    "### 1. Getting Started\n",
    "\n",
    "Downloading Anaconda\n"
   ]
  },
  {
   "cell_type": "markdown",
   "id": "aa8bf726-1a97-415a-8493-aa300dddae20",
   "metadata": {},
   "source": [
    "### 2. Data Structures\n",
    "\n",
    "numbers, strings, lists, sets, and dictionaries."
   ]
  },
  {
   "cell_type": "markdown",
   "id": "9995fb5a-dc82-4ddb-85d7-2a8f7f7b64a7",
   "metadata": {},
   "source": [
    "### 3. Operations\n",
    "numbers and strings"
   ]
  },
  {
   "cell_type": "markdown",
   "id": "387bcb40-75d0-4afb-ad00-00b6759a4a48",
   "metadata": {},
   "source": [
    "### 4. Conditions and Loops\n",
    "if/else, for, and while loops"
   ]
  },
  {
   "cell_type": "markdown",
   "id": "7d758deb-f528-49be-9936-b4a8a18cf619",
   "metadata": {},
   "source": [
    "### 5. Functions and Scope\n",
    "built-in and custom"
   ]
  },
  {
   "cell_type": "markdown",
   "id": "8a2857d8-aa05-4086-9f61-8d7e96e9a080",
   "metadata": {},
   "source": [
    "### 6. Modules\n",
    "importing and creating"
   ]
  },
  {
   "cell_type": "markdown",
   "id": "559fe18d-921b-464d-9dfa-774d65195db9",
   "metadata": {},
   "source": [
    "### 7. Errors and Exceptions\n",
    "how to understand and handle them"
   ]
  },
  {
   "cell_type": "markdown",
   "id": "271c023b-48b2-4a43-a760-5515fa5b852f",
   "metadata": {},
   "source": [
    "### 8. Working with Data\n",
    "reading and writing"
   ]
  },
  {
   "cell_type": "markdown",
   "id": "6925de59-5534-47b6-bf73-1546eadab9c9",
   "metadata": {},
   "source": [
    "### 9. Classes\n",
    "objects, inheritance, and decorators"
   ]
  },
  {
   "cell_type": "code",
   "execution_count": null,
   "id": "5222108f-71ac-428f-be5d-3195c5584b4a",
   "metadata": {},
   "outputs": [],
   "source": []
  }
 ],
 "metadata": {
  "kernelspec": {
   "display_name": "Python 3 (ipykernel)",
   "language": "python",
   "name": "python3"
  },
  "language_info": {
   "codemirror_mode": {
    "name": "ipython",
    "version": 3
   },
   "file_extension": ".py",
   "mimetype": "text/x-python",
   "name": "python",
   "nbconvert_exporter": "python",
   "pygments_lexer": "ipython3",
   "version": "3.9.13"
  }
 },
 "nbformat": 4,
 "nbformat_minor": 5
}
