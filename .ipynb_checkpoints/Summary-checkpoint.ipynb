{
 "cells": [
  {
   "cell_type": "markdown",
   "id": "8b5005fc-3cb1-41d1-b515-e323af58375a",
   "metadata": {},
   "source": [
    "## Python Tutorial\n",
    "\n",
    "Why do you need to learn Python?\n",
    "\n",
    "\n",
    "\n",
    "In this course, we will be going through the following topics:\n",
    "1. Getting Started | Setup: Download and Install\n",
    "2. Data Structures\n",
    "3. Operations\n",
    "4. Conditions and Loops\n",
    "5. Functions and Scope\n",
    "6. Modules\n",
    "7. Errors and Exceptions\n",
    "8. Working with Data\n",
    "9. Classes"
   ]
  },
  {
   "cell_type": "markdown",
   "id": "e424f126-c101-473e-ac92-271ae6c47415",
   "metadata": {},
   "source": [
    "### 1. Getting Started\n",
    "\n",
    "Downloading Anaconda\n"
   ]
  },
  {
   "cell_type": "markdown",
   "id": "aa8bf726-1a97-415a-8493-aa300dddae20",
   "metadata": {},
   "source": [
    "### 2. Data Structures\n",
    "\n",
    "numbers, strings, lists, sets, and dictionaries."
   ]
  },
  {
   "cell_type": "code",
   "execution_count": 3,
   "id": "5cf48204-3a4a-47f4-b684-28a1e202bb76",
   "metadata": {},
   "outputs": [
    {
     "name": "stdout",
     "output_type": "stream",
     "text": [
      "variable 1 is of type <class 'int'>\n",
      "variable 2.3 is of type <class 'float'>\n",
      "variable abc is of type <class 'str'>\n"
     ]
    }
   ],
   "source": [
    "## we have different data types in python\n",
    "## we have int\n",
    "var_int = 1\n",
    "## float\n",
    "var_float = 2.3\n",
    "## char or string\n",
    "var_str = \"abc\"\n",
    "print(f\"variable {var_int} is of type {type(var_int)}\")\n",
    "print(f\"variable {var_float} is of type {type(var_float)}\")\n",
    "print(f\"variable {var_str} is of type {type(var_str)}\")"
   ]
  },
  {
   "cell_type": "code",
   "execution_count": 8,
   "id": "4a79bba1-aa0e-4d3e-9eda-1b160ef2c985",
   "metadata": {},
   "outputs": [
    {
     "name": "stdout",
     "output_type": "stream",
     "text": [
      "variable [1, 2, 3, 4] is of type <class 'list'>\n",
      "variable [5, 6, 7, 8, 8] is of type <class 'list'>\n",
      "variable {8, 5, 6, 7} is of type <class 'set'>\n",
      "variable (2, 4, 6, 7, 9, 9) is of type <class 'tuple'>\n",
      "variable {'key_1': [1, 2, 3, 4], 'key_2': [5, 6, 7, 8, 8]} is of type <class 'dict'>\n",
      "variable {'a': [1, 2, 4], 'b': 0} is of type <class 'dict'>\n"
     ]
    }
   ],
   "source": [
    "## the more useful/important/complicated types\n",
    "## are lists\n",
    "## which are ordered\n",
    "list_1 = list((1,2,3,4))\n",
    "## or\n",
    "list_2 = [5, 6, 7, 8, 8]\n",
    "## sets, which are collection of unique values\n",
    "## unordered\n",
    "set_1 = set(list_2)\n",
    "## tuples, which are similar to lists\n",
    "## ordered\n",
    "tuple_1 = (2, 4, 6, 7, 9, 9)\n",
    "## dictionaries, which are key:value pairs\n",
    "## unordered, but seems to be changed recently\n",
    "dict_1 = dict(key_1=list_1, key_2=list_2)\n",
    "## or\n",
    "dict_2 = {'a':[1, 2, 4],\n",
    "         'b':0}\n",
    "print(f\"variable {list_1} is of type {type(list_1)}\")\n",
    "print(f\"variable {list_2} is of type {type(list_2)}\")\n",
    "print(f\"variable {set_1} is of type {type(set_1)}\")\n",
    "print(f\"variable {tuple_1} is of type {type(tuple_1)}\")\n",
    "print(f\"variable {dict_1} is of type {type(dict_1)}\")\n",
    "print(f\"variable {dict_2} is of type {type(dict_2)}\")"
   ]
  },
  {
   "cell_type": "markdown",
   "id": "9995fb5a-dc82-4ddb-85d7-2a8f7f7b64a7",
   "metadata": {},
   "source": [
    "### 3. Operations\n",
    "numbers and strings"
   ]
  },
  {
   "cell_type": "markdown",
   "id": "387bcb40-75d0-4afb-ad00-00b6759a4a48",
   "metadata": {},
   "source": [
    "### 4. Conditions and Loops\n",
    "if/else, for, and while loops"
   ]
  },
  {
   "cell_type": "markdown",
   "id": "7d758deb-f528-49be-9936-b4a8a18cf619",
   "metadata": {},
   "source": [
    "### 5. Functions and Scope\n",
    "built-in and custom"
   ]
  },
  {
   "cell_type": "markdown",
   "id": "8a2857d8-aa05-4086-9f61-8d7e96e9a080",
   "metadata": {},
   "source": [
    "### 6. Modules\n",
    "importing and creating"
   ]
  },
  {
   "cell_type": "markdown",
   "id": "559fe18d-921b-464d-9dfa-774d65195db9",
   "metadata": {},
   "source": [
    "### 7. Errors and Exceptions\n",
    "how to understand and handle them"
   ]
  },
  {
   "cell_type": "markdown",
   "id": "271c023b-48b2-4a43-a760-5515fa5b852f",
   "metadata": {},
   "source": [
    "### 8. Working with Data\n",
    "reading and writing"
   ]
  },
  {
   "cell_type": "markdown",
   "id": "6925de59-5534-47b6-bf73-1546eadab9c9",
   "metadata": {},
   "source": [
    "### 9. Classes\n",
    "objects, inheritance, and decorators"
   ]
  },
  {
   "cell_type": "code",
   "execution_count": null,
   "id": "5222108f-71ac-428f-be5d-3195c5584b4a",
   "metadata": {},
   "outputs": [],
   "source": []
  }
 ],
 "metadata": {
  "kernelspec": {
   "display_name": "Python 3 (ipykernel)",
   "language": "python",
   "name": "python3"
  },
  "language_info": {
   "codemirror_mode": {
    "name": "ipython",
    "version": 3
   },
   "file_extension": ".py",
   "mimetype": "text/x-python",
   "name": "python",
   "nbconvert_exporter": "python",
   "pygments_lexer": "ipython3",
   "version": "3.9.13"
  }
 },
 "nbformat": 4,
 "nbformat_minor": 5
}
