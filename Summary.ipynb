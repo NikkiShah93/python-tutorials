{
 "cells": [
  {
   "cell_type": "markdown",
   "id": "8b5005fc-3cb1-41d1-b515-e323af58375a",
   "metadata": {},
   "source": [
    "## Python Tutorial\n",
    "\n",
    "Why do you need to learn Python?\n",
    "\n",
    "\n",
    "\n",
    "In this course, we will be going through the following topics:\n",
    "1. Getting Started | Setup: Download and Install\n",
    "2. Data Structures\n",
    "3. Operations\n",
    "4. Conditions and Loops\n",
    "5. Functions and Scope\n",
    "6. Modules\n",
    "7. Errors and Exceptions\n",
    "8. Working with Data\n",
    "9. Classes"
   ]
  },
  {
   "cell_type": "markdown",
   "id": "e424f126-c101-473e-ac92-271ae6c47415",
   "metadata": {},
   "source": [
    "### 1. Getting Started\n",
    "\n",
    "Downloading Anaconda\n"
   ]
  },
  {
   "cell_type": "markdown",
   "id": "aa8bf726-1a97-415a-8493-aa300dddae20",
   "metadata": {},
   "source": [
    "### 2. Data Structures\n",
    "\n",
    "numbers, strings, lists, sets, and dictionaries."
   ]
  },
  {
   "cell_type": "code",
   "execution_count": 25,
   "id": "5cf48204-3a4a-47f4-b684-28a1e202bb76",
   "metadata": {},
   "outputs": [
    {
     "name": "stdout",
     "output_type": "stream",
     "text": [
      "variable 1 is of type <class 'int'>\n",
      "variable 2.3 is of type <class 'float'>\n",
      "variable abc is of type <class 'str'>\n",
      "variable True is of type <class 'bool'>\n"
     ]
    }
   ],
   "source": [
    "## we have different data types in python\n",
    "## we have int\n",
    "var_int = 1\n",
    "## float\n",
    "var_float = 2.3\n",
    "## char or string\n",
    "var_str = \"abc\"\n",
    "## boolean\n",
    "var_bo = (1 == 1)\n",
    "print(f\"variable {var_int} is of type {type(var_int)}\")\n",
    "print(f\"variable {var_float} is of type {type(var_float)}\")\n",
    "print(f\"variable {var_str} is of type {type(var_str)}\")\n",
    "print(f\"variable {var_bo} is of type {type(var_bo)}\")"
   ]
  },
  {
   "cell_type": "code",
   "execution_count": 18,
   "id": "4a79bba1-aa0e-4d3e-9eda-1b160ef2c985",
   "metadata": {},
   "outputs": [
    {
     "name": "stdout",
     "output_type": "stream",
     "text": [
      "variable [1, 2, 3, 4] is of type <class 'list'>\n",
      "variable [5, 6, 7, 8, 8] is of type <class 'list'>\n",
      "variable range(0, 10, 2) is of type <class 'range'>\n",
      "variable {8, 5, 6, 7} is of type <class 'set'>\n",
      "variable (2, 4, 6, 7, 9, 9) is of type <class 'tuple'>\n",
      "variable {'key_1': [1, 2, 3, 4], 'key_2': [5, 6, 7, 8, 8]} is of type <class 'dict'>\n",
      "variable {'a': [1, 2, 4], 'b': 0} is of type <class 'dict'>\n"
     ]
    }
   ],
   "source": [
    "## the more useful/important/complicated types\n",
    "## are lists\n",
    "## which are ordered\n",
    "list_1 = list((1,2,3,4))\n",
    "## or\n",
    "list_2 = [5, 6, 7, 8, 8]\n",
    "## sets, which are collection of unique values\n",
    "## unordered\n",
    "set_1 = set(list_2)\n",
    "## tuples, which are similar to lists\n",
    "## ordered\n",
    "tuple_1 = (2, 4, 6, 7, 9, 9)\n",
    "## dictionaries, which are key:value pairs\n",
    "## unordered, but seems to be changed recently\n",
    "dict_1 = dict(key_1=list_1, key_2=list_2)\n",
    "## or\n",
    "dict_2 = {'a':[1, 2, 4],\n",
    "         'b':0}\n",
    "print(f\"variable {list_1} is of type {type(list_1)}\")\n",
    "print(f\"variable {list_2} is of type {type(list_2)}\")\n",
    "print(f\"variable {list_3} is of type {type(list_3)}\")\n",
    "print(f\"variable {set_1} is of type {type(set_1)}\")\n",
    "print(f\"variable {tuple_1} is of type {type(tuple_1)}\")\n",
    "print(f\"variable {dict_1} is of type {type(dict_1)}\")\n",
    "print(f\"variable {dict_2} is of type {type(dict_2)}\")"
   ]
  },
  {
   "cell_type": "markdown",
   "id": "9995fb5a-dc82-4ddb-85d7-2a8f7f7b64a7",
   "metadata": {},
   "source": [
    "### 3. Operations\n",
    "numbers and strings"
   ]
  },
  {
   "cell_type": "code",
   "execution_count": 17,
   "id": "0f17b063-d0d9-4132-9a39-8fb73ab1f5f0",
   "metadata": {},
   "outputs": [
    {
     "name": "stdout",
     "output_type": "stream",
     "text": [
      "operation 2 + 2 result is 4\n",
      "operation 'abc' + 'def' result is abcdef\n",
      "operation 5 - 2 result is 3\n",
      "operation 5 / 2 result is 2.5\n",
      "operation 5 // 2 result is 2\n",
      "operation 5 * 2 result is 10\n",
      "operation 5 % 2 result is 1\n"
     ]
    }
   ],
   "source": [
    "## similar to other languages\n",
    "## or Excel formulas\n",
    "## sum\n",
    "sum_val = 2 + 2\n",
    "## we can also use sum for strings\n",
    "sum_val_s = \"abc\" + \"def\"\n",
    "## sub\n",
    "sub_val = 5 - 2\n",
    "## div\n",
    "## returns float\n",
    "div_val = 5 / 2\n",
    "## floor div\n",
    "div_val_1 = 5 // 2\n",
    "## mul\n",
    "mult_val = 5 * 2\n",
    "## mod\n",
    "mod_val = 5 % 2\n",
    "print(f\"operation 2 + 2 result is {sum_val}\")\n",
    "print(f\"operation 'abc' + 'def' result is {sum_val_s}\")\n",
    "print(f\"operation 5 - 2 result is {sub_val}\")\n",
    "print(f\"operation 5 / 2 result is {div_val}\")\n",
    "print(f\"operation 5 // 2 result is {div_val_1}\")\n",
    "print(f\"operation 5 * 2 result is {mult_val}\")\n",
    "print(f\"operation 5 % 2 result is {mod_val}\")"
   ]
  },
  {
   "cell_type": "markdown",
   "id": "387bcb40-75d0-4afb-ad00-00b6759a4a48",
   "metadata": {},
   "source": [
    "### 4. Conditions and Loops\n",
    "if/else, for, and while loops"
   ]
  },
  {
   "cell_type": "code",
   "execution_count": 35,
   "id": "b8aab999-aa30-450b-bc70-1ab1aca959c3",
   "metadata": {},
   "outputs": [
    {
     "name": "stdout",
     "output_type": "stream",
     "text": [
      "First conditional:\n",
      "a > b\n",
      "\n",
      "Ternary operator result:\n",
      "a > b\n"
     ]
    }
   ],
   "source": [
    "## we can have conditionals in python\n",
    "## using if else statements\n",
    "a = 5\n",
    "b = 2\n",
    "print(\"First conditional:\")\n",
    "if a > b:\n",
    "    print(\"a > b\")\n",
    "else:\n",
    "    print(\"a <= b\")\n",
    "## ternary operator\n",
    "ter_result = \"a > b\" if a > b else \"a <= b\"\n",
    "print(f\"\\nTernary operator result:\\n{ter_result}\")"
   ]
  },
  {
   "cell_type": "code",
   "execution_count": 36,
   "id": "e268e9cd-da55-45c5-a24b-53758143b1a4",
   "metadata": {},
   "outputs": [
    {
     "name": "stdout",
     "output_type": "stream",
     "text": [
      "This is from while loop\n",
      "0 is less than or equal to 5\n",
      "1 is less than or equal to 5\n",
      "2 is less than or equal to 5\n",
      "3 is less than or equal to 5\n",
      "4 is less than or equal to 5\n",
      "5 is less than or equal to 5\n",
      "\n",
      "This is from for loop\n",
      "val is 1\n",
      "val is 2\n",
      "val is 3\n",
      "i is 0\n",
      "i is 2\n",
      "i is 4\n",
      "i is 6\n",
      "i is 8\n"
     ]
    }
   ],
   "source": [
    "## we can iterate over iterables in python\n",
    "## lists, sets, tuples, dictionaries, ranges\n",
    "## are all iterables\n",
    "## there are two types of loops\n",
    "## while, when we want to check a certain condition\n",
    "## not recommended, can be causing infinite loops\n",
    "c = 0\n",
    "print(\"This is from while loop\")\n",
    "while c <= 5:\n",
    "    print(f\"{c} is less than or equal to 5\")\n",
    "    ## adding 1 to c\n",
    "    c += 1\n",
    "## more common type is a for loop\n",
    "print(\"\\nThis is from for loop\")\n",
    "for val in [1, 2, 3]:\n",
    "    print(f\"val is {val}\")\n",
    "## or \n",
    "for i in range(0, 10, 2):\n",
    "    print(f\"i is {i}\")"
   ]
  },
  {
   "cell_type": "code",
   "execution_count": 37,
   "id": "79819309-dbbf-452e-ad6e-99da86f6dac0",
   "metadata": {},
   "outputs": [
    {
     "name": "stdout",
     "output_type": "stream",
     "text": [
      "5 is divisible by 5\n",
      "10 is divisible by 5\n",
      "15 is divisible by 5\n",
      "\n",
      "List comprehension result:\n",
      "[5, 10, 15]\n"
     ]
    }
   ],
   "source": [
    "## combining the conditionals and loops\n",
    "for i in range(1, 20):\n",
    "    if i % 5 == 0:\n",
    "        print(f\"{i} is divisible by 5\")\n",
    "## putting them together with lists\n",
    "## we get list comprehension\n",
    "list_comp = [a for a in range(1, 20) if a % 5 == 0]\n",
    "print(f\"\\nList comprehension result:\\n{list_comp}\")"
   ]
  },
  {
   "cell_type": "code",
   "execution_count": 40,
   "id": "315cb268-d89b-40d7-8082-e451afa5d70a",
   "metadata": {},
   "outputs": [
    {
     "name": "stdout",
     "output_type": "stream",
     "text": [
      "Only getting the keys\n",
      "key is a\n",
      "key is b\n",
      "key is c\n",
      "\n",
      "Getting both key and value\n",
      "The key a is mapped to [1, 2, 3]\n",
      "The key b is mapped to 0\n",
      "The key c is mapped to {'d': 1, 'e': [4, 5, 6]}\n"
     ]
    }
   ],
   "source": [
    "## looping through dictionaries\n",
    "## if we simply use this, we only get the keys\n",
    "dict_3 = {'a':[1, 2, 3], \n",
    "         'b':0,\n",
    "         'c':{'d':1,\n",
    "             'e':[4, 5, 6]}\n",
    "         }\n",
    "print(\"Only getting the keys\")\n",
    "for key in dict_3:\n",
    "    print(f\"key is {key}\")\n",
    "## if we want keys and their values\n",
    "## we have to loop through items\n",
    "print(\"\\nGetting both key and value\")\n",
    "for key, val in dict_3.items():\n",
    "    print(f\"The key {key} is mapped to {val}\")"
   ]
  },
  {
   "cell_type": "markdown",
   "id": "7d758deb-f528-49be-9936-b4a8a18cf619",
   "metadata": {},
   "source": [
    "### 5. Functions and Scope\n",
    "built-in and custom"
   ]
  },
  {
   "cell_type": "markdown",
   "id": "716e7640-0691-4eee-8cdd-479cac65ed01",
   "metadata": {},
   "source": [
    "### 5.1. Python built-in functions"
   ]
  },
  {
   "cell_type": "code",
   "execution_count": 55,
   "id": "4adfa5f7-a5c3-433c-9205-3ab3b024d0b9",
   "metadata": {},
   "outputs": [
    {
     "name": "stdout",
     "output_type": "stream",
     "text": [
      "['a', 2, True, [1, 3], (5, 6), {'b': 4}] length = 6\n",
      "a length = 1\n",
      "{'b': 4} length = 1\n",
      "Before conversion :This is a string with repeated chars\n",
      "After conversion to set: {'n', 'e', 's', 'c', 'T', ' ', 'w', 'p', 'r', 'd', 'h', 'g', 'a', 'i', 't'}\n",
      "After conversion to list: ['T', 'h', 'i', 's', ' ', 'i', 's', ' ', 'a', ' ', 's', 't', 'r', 'i', 'n', 'g', ' ', 'w', 'i', 't', 'h', ' ', 'r', 'e', 'p', 'e', 'a', 't', 'e', 'd', ' ', 'c', 'h', 'a', 'r', 's']\n"
     ]
    },
    {
     "name": "stdin",
     "output_type": "stream",
     "text": [
      "Please enter a number: 5\n"
     ]
    },
    {
     "name": "stdout",
     "output_type": "stream",
     "text": [
      "5 is odd\n"
     ]
    }
   ],
   "source": [
    "## we can get the length of any datatype\n",
    "var_list = ['a', 2, True, [1, 3], (5, 6), {'b':4}]\n",
    "print(f\"{var_list} length = {len(var_list)}\")\n",
    "print(f\"{var_list[0]} length = {len(var_list[0])}\")\n",
    "print(f\"{var_list[-1]} length = {len(var_list[-1])}\")\n",
    "## we can convert datatypes to each other\n",
    "var_str = \"This is a string with repeated chars\"\n",
    "var_set = set(var_str)\n",
    "var_list = list(var_str)\n",
    "print(f\"Before conversion :{var_str}\\nAfter conversion to set: {var_set}\")\n",
    "print(f\"After conversion to list: {var_list}\")\n",
    "## getting input from user\n",
    "user_input = input(\"Please enter a number:\")\n",
    "result = f\"{user_input} is even\" if int(user_input)%2==0 else f\"{user_input} is odd\"\n",
    "print(result)"
   ]
  },
  {
   "cell_type": "code",
   "execution_count": 67,
   "id": "39ee4fb6-ff0d-4376-b6cd-c32b35928fcb",
   "metadata": {},
   "outputs": [
    {
     "name": "stdout",
     "output_type": "stream",
     "text": [
      "[1, 3, 5, 7, 9] is of type <class 'list'>\n",
      "[1, 3, 5, 7, 9] reversed is [9, 7, 5, 3, 1]\n",
      "[4, 7, 2, 1] sorted is [1, 2, 4, 7]\n",
      "2**3 is 8\n",
      "a = 1 b = 5\n",
      "a = 2 b = 6\n",
      "a = 3 b = 7\n",
      "a = 4 b = 8\n",
      "0 value is John \n",
      "1 value is Jane \n",
      "2 value is Jess \n"
     ]
    }
   ],
   "source": [
    "## we can create range of numbers\n",
    "range_list = list(range(1, 11, 2))\n",
    "notsorted_list = [4, 7, 2, 1]\n",
    "print(f\"{range_list} is of type {type(range_list)}\")\n",
    "## we can reverese out input\n",
    "print(f\"{range_list} reversed is {list(reversed(range_list))}\")\n",
    "## or sort it\n",
    "print(f\"{notsorted_list} sorted is {list(sorted(notsorted_list))}\")\n",
    "## we can power numeric types\n",
    "print(f\"2**3 is {pow(2, 3)}\")\n",
    "## you can use zip for iterating over two separate iterables\n",
    "## NOTE: should be the same length\n",
    "for a, b in zip(range(1, 5), range(5, 10)):\n",
    "    print(f\"a = {a} b = {b}\")\n",
    "## we can add a counter to our iterables\n",
    "for i, val in enumerate(['John', 'Jane', 'Jess']):\n",
    "    print(f\"{i} value is {val} \")"
   ]
  },
  {
   "cell_type": "markdown",
   "id": "6dac9f2f-9bed-456f-903f-2106897e8165",
   "metadata": {},
   "source": [
    "### 5.2. Custom Functions"
   ]
  },
  {
   "cell_type": "code",
   "execution_count": 98,
   "id": "9b25467e-b8b7-4f3c-9bd2-26f95c9032e3",
   "metadata": {},
   "outputs": [
    {
     "name": "stdout",
     "output_type": "stream",
     "text": [
      "something\n",
      "[0, 1, 1, 2, 3, 5, 8, 13, 21, 34, 55]\n"
     ]
    }
   ],
   "source": [
    "## we use the keyword def to create a function\n",
    "## the functions don't need to take any params\n",
    "def print_something():\n",
    "    print(\"something\")\n",
    "## and we can call the function\n",
    "print_something()\n",
    "## let's create a function for Fibonacci series\n",
    "def fib(n, a=0, b=1):\n",
    "    if n == 0:\n",
    "        return a\n",
    "    else:\n",
    "        return fib(n-1, b, a+b)\n",
    "# new_list = [fib(i, a, b) for i, (a, b) in enumerate(zip(range(10)[:-1], range(10)[1:]))]\n",
    "new_list = list(reversed([fib(i) for i in range(10, -1, -1)]))\n",
    "print(new_list)"
   ]
  },
  {
   "cell_type": "markdown",
   "id": "e02589bb-033a-4db1-a973-ce95eef22cb8",
   "metadata": {},
   "source": [
    "### 5.3. Scope"
   ]
  },
  {
   "cell_type": "code",
   "execution_count": 102,
   "id": "0f1b19fe-3316-4b67-8e12-bbc88c78ce8d",
   "metadata": {},
   "outputs": [
    {
     "name": "stdout",
     "output_type": "stream",
     "text": [
      "c inside the function: <class 'NoneType'>\n",
      "c global: 7 <class 'int'>\n",
      "returned c: 7 <class 'int'>\n"
     ]
    }
   ],
   "source": [
    "## variables inside a funtion\n",
    "## are only accessable in that funtion\n",
    "## unless returned or made global\n",
    "a, b = 2, 5\n",
    "def add(a, b):\n",
    "    c = a + b\n",
    "c = add(a, b)\n",
    "print('c inside the function:', type(c))\n",
    "def add(a, b):\n",
    "    global c\n",
    "    c = a + b\n",
    "add(a, b)\n",
    "print('c global:', c, type(c))\n",
    "def add(a, b):\n",
    "    c = a + b\n",
    "    return c\n",
    "c = add(a, b)\n",
    "print('returned c:', c, type(c))"
   ]
  },
  {
   "cell_type": "code",
   "execution_count": 103,
   "id": "2b91fbcb-8d61-47a4-9fb4-fcb9a966e63d",
   "metadata": {},
   "outputs": [
    {
     "name": "stdout",
     "output_type": "stream",
     "text": [
      "14 <class 'int'>\n"
     ]
    }
   ],
   "source": [
    "## the variables defined in the main script\n",
    "## are accessable in the functions\n",
    "d, e = 6, 8\n",
    "def add():\n",
    "    return d + e\n",
    "f = add()\n",
    "print(f, type(f))"
   ]
  },
  {
   "cell_type": "markdown",
   "id": "8a2857d8-aa05-4086-9f61-8d7e96e9a080",
   "metadata": {},
   "source": [
    "### 6. Modules\n",
    "importing and creating\n"
   ]
  },
  {
   "cell_type": "markdown",
   "id": "42233fe8-bcca-45db-87d4-8978e17c5e1b",
   "metadata": {},
   "source": [
    "#### 6.1. Importing Public Modules"
   ]
  },
  {
   "cell_type": "code",
   "execution_count": 106,
   "id": "ffead377-4d80-4308-bd8e-be9d4b71102e",
   "metadata": {},
   "outputs": [
    {
     "name": "stdout",
     "output_type": "stream",
     "text": [
      "[[9 7]\n",
      " [7 8]] <class 'numpy.ndarray'>\n"
     ]
    }
   ],
   "source": [
    "## we can simply import the existing modules\n",
    "## by import keyword\n",
    "## the most commonly use modules for data science are\n",
    "## numpy, pandas, matplotlib, ...\n",
    "## if we want to install them \n",
    "## !pip install numpy pandas matplotlib\n",
    "import numpy as np # np is the alias\n",
    "import pandas as pd\n",
    "## using classes in the module\n",
    "random_nums = np.random.randint(low=0, high=10, size= (2,2))\n",
    "print(random_nums, type(random_nums))"
   ]
  },
  {
   "cell_type": "markdown",
   "id": "db4b3893-c1be-4f3e-af22-82f3ac205678",
   "metadata": {},
   "source": [
    "#### 6.2. Creating Custom Modules "
   ]
  },
  {
   "cell_type": "code",
   "execution_count": 111,
   "id": "38f839f8-1a30-47c6-bcf5-804fd37b003a",
   "metadata": {},
   "outputs": [
    {
     "name": "stdout",
     "output_type": "stream",
     "text": [
      "Hello!\n"
     ]
    }
   ],
   "source": [
    "## we can simply import any python file into our main script\n",
    "## as long as the relative path is correct\n",
    "import os\n",
    "## getting the current working directory\n",
    "CWD = os.getcwd()\n",
    "python_code = \"def print_hello():print('Hello!')\"\n",
    "with open(f'{CWD}\\\\scripts\\\\test_module.py', 'w') as s:\n",
    "    s.write(python_code)\n",
    "import scripts.test_module as test_m\n",
    "test_m.print_hello()"
   ]
  },
  {
   "cell_type": "markdown",
   "id": "559fe18d-921b-464d-9dfa-774d65195db9",
   "metadata": {},
   "source": [
    "### 7. Errors and Exceptions\n",
    "how to understand and handle them"
   ]
  },
  {
   "cell_type": "code",
   "execution_count": 121,
   "id": "1d520964-45f2-4198-89f1-55ca8b2988e6",
   "metadata": {},
   "outputs": [
    {
     "name": "stdout",
     "output_type": "stream",
     "text": [
      "can only concatenate str (not \"int\") to str\n",
      "'c'\n",
      "name 'nonexistent_var' is not defined\n",
      "division by zero\n"
     ]
    }
   ],
   "source": [
    "## errors are inevitable\n",
    "## and we need to take care of them\n",
    "## so they won't break our workflow\n",
    "## there are many types of error\n",
    "## SyntanxError, NameError, TypeError, ValueError, and IndexError\n",
    "## are the most common ones (especially for beginners)\n",
    "## we can catch specific errors\n",
    "## by try catch\n",
    "\n",
    "## concatenation of two different types\n",
    "## will throw a TypeError\n",
    "try:\n",
    "    print(\"this throws an error\"+2)\n",
    "except TypeError as e:\n",
    "    print(e)\n",
    "## trying to access a key\n",
    "## that doesn't exist is a KeyError\n",
    "test_dict = {'a':1, 'b':2}\n",
    "try:\n",
    "    print(test_dict['c'])\n",
    "except KeyError as e:\n",
    "    print(e)\n",
    "## trying to use a variable\n",
    "## that doesn't exist is a NameError\n",
    "try:\n",
    "    print(nonexistent_var)\n",
    "except NameError as e:\n",
    "    print(e)\n",
    "\n",
    "## catch all \n",
    "try:\n",
    "    10 / 0\n",
    "except Exception as e:\n",
    "    print(e)"
   ]
  },
  {
   "cell_type": "markdown",
   "id": "271c023b-48b2-4a43-a760-5515fa5b852f",
   "metadata": {},
   "source": [
    "### 8. Working with Data\n",
    "reading and writing"
   ]
  },
  {
   "cell_type": "code",
   "execution_count": 142,
   "id": "74f38906-9897-4121-8852-415edb7d9d40",
   "metadata": {},
   "outputs": [
    {
     "name": "stdout",
     "output_type": "stream",
     "text": [
      "file content:\n",
      " ['sample data']\n",
      "checking if the file is closed:\n",
      " True\n"
     ]
    }
   ],
   "source": [
    "## there are a few ways to read data\n",
    "## one of the important things that can lead to issues\n",
    "## if the path of the file relative to the path of script\n",
    "## in order to avoid that we can use os and the try-catch \n",
    "import os\n",
    "## we can get the current working directory\n",
    "CWD = os.getcwd()\n",
    "## we can also get the parent directory\n",
    "PD = os.path.dirname(CWD)\n",
    "## we can walk through the folder\n",
    "## and find a certain sub-folder\n",
    "file_name = 'sample.txt'\n",
    "for path, sub, file in os.walk(CWD):\n",
    "    if path.find('data') != -1:\n",
    "        data_path = path\n",
    "## and then try to read/write a file\n",
    "file_path = f\"{data_path}\\\\{file_name}\"\n",
    "## writing a new file in the path\n",
    "file = open(file_path, 'w')\n",
    "file.write('sample data')\n",
    "## we need to close the file \n",
    "file.close()\n",
    "## the better way would be\n",
    "## to use a context manager\n",
    "with open(file_path, 'r') as f:\n",
    "    print(\"file content:\\n\", f.readlines())\n",
    "## checking if the file is closed\n",
    "print(\"checking if the file is closed:\\n\", f.closed)"
   ]
  },
  {
   "cell_type": "markdown",
   "id": "6925de59-5534-47b6-bf73-1546eadab9c9",
   "metadata": {},
   "source": [
    "### 9. Classes\n",
    "objects, inheritance, and decorators"
   ]
  },
  {
   "cell_type": "code",
   "execution_count": 145,
   "id": "a456f2c3-ac93-4043-9e2c-fb2f82366e55",
   "metadata": {},
   "outputs": [
    {
     "name": "stdout",
     "output_type": "stream",
     "text": [
      "This is a string! split = ['This', 'is', 'a', 'string!']\n",
      "This is a string! replace s with a = Thia ia a atring!\n",
      "before appending ['T', 'h', 'i', 's', ' ', 'i', 's', ' ', 'a', ' ', 's', 't', 'r', 'i', 'n', 'g', '!']\n",
      "after appending = ['T', 'h', 'i', 's', ' ', 'i', 's', ' ', 'a', ' ', 's', 't', 'r', 'i', 'n', 'g', '!', 'a']\n",
      "['T', 'h', 'i', 's', ' ', 'i', 's', ' ', 'a', ' ', 's', 't', 'r', 'i', 'n', 'g', '!', 'a'] popped value = a\n",
      "['T', 'h', 'i', 's', ' ', 'i', 's', ' ', 'a', ' ', 's', 't', 'r', 'i', 'n', 'g', '!'] after pop\n"
     ]
    }
   ],
   "source": [
    "## classes are the building blocks of any project\n",
    "## we're using them all the time\n",
    "## lists, strings, dictionaries, etc. are all classes\n",
    "## and they have properties and methods associated with them\n",
    "## using string as a class\n",
    "var_str = \"This is a string!\"\n",
    "## we can split the strings, using its split method\n",
    "## by space (default) or any other character\n",
    "print(f\"{var_str} split = {var_str.split()}\")\n",
    "## we can replace letter/words \n",
    "print(f\"{var_str} replace s with a = {var_str.replace('s', 'a')}\")\n",
    "## using list as class\n",
    "## using its append method\n",
    "var_list = list(var_str)\n",
    "print(f\"before appending {var_list}\")\n",
    "var_list.append('a')\n",
    "print(f\"after appending = {var_list}\")\n",
    "## removing data from a list\n",
    "print(f\"{var_list} popped value = {var_list.pop()}\")\n",
    "print(f'{var_list} after pop')"
   ]
  },
  {
   "cell_type": "code",
   "execution_count": 146,
   "id": "3edb3390-3cef-4086-9105-6c591f845b53",
   "metadata": {
    "scrolled": true
   },
   "outputs": [
    {
     "name": "stdout",
     "output_type": "stream",
     "text": [
      "Help on class list in module builtins:\n",
      "\n",
      "class list(object)\n",
      " |  list(iterable=(), /)\n",
      " |  \n",
      " |  Built-in mutable sequence.\n",
      " |  \n",
      " |  If no argument is given, the constructor creates a new empty list.\n",
      " |  The argument must be an iterable if specified.\n",
      " |  \n",
      " |  Methods defined here:\n",
      " |  \n",
      " |  __add__(self, value, /)\n",
      " |      Return self+value.\n",
      " |  \n",
      " |  __contains__(self, key, /)\n",
      " |      Return key in self.\n",
      " |  \n",
      " |  __delitem__(self, key, /)\n",
      " |      Delete self[key].\n",
      " |  \n",
      " |  __eq__(self, value, /)\n",
      " |      Return self==value.\n",
      " |  \n",
      " |  __ge__(self, value, /)\n",
      " |      Return self>=value.\n",
      " |  \n",
      " |  __getattribute__(self, name, /)\n",
      " |      Return getattr(self, name).\n",
      " |  \n",
      " |  __getitem__(...)\n",
      " |      x.__getitem__(y) <==> x[y]\n",
      " |  \n",
      " |  __gt__(self, value, /)\n",
      " |      Return self>value.\n",
      " |  \n",
      " |  __iadd__(self, value, /)\n",
      " |      Implement self+=value.\n",
      " |  \n",
      " |  __imul__(self, value, /)\n",
      " |      Implement self*=value.\n",
      " |  \n",
      " |  __init__(self, /, *args, **kwargs)\n",
      " |      Initialize self.  See help(type(self)) for accurate signature.\n",
      " |  \n",
      " |  __iter__(self, /)\n",
      " |      Implement iter(self).\n",
      " |  \n",
      " |  __le__(self, value, /)\n",
      " |      Return self<=value.\n",
      " |  \n",
      " |  __len__(self, /)\n",
      " |      Return len(self).\n",
      " |  \n",
      " |  __lt__(self, value, /)\n",
      " |      Return self<value.\n",
      " |  \n",
      " |  __mul__(self, value, /)\n",
      " |      Return self*value.\n",
      " |  \n",
      " |  __ne__(self, value, /)\n",
      " |      Return self!=value.\n",
      " |  \n",
      " |  __repr__(self, /)\n",
      " |      Return repr(self).\n",
      " |  \n",
      " |  __reversed__(self, /)\n",
      " |      Return a reverse iterator over the list.\n",
      " |  \n",
      " |  __rmul__(self, value, /)\n",
      " |      Return value*self.\n",
      " |  \n",
      " |  __setitem__(self, key, value, /)\n",
      " |      Set self[key] to value.\n",
      " |  \n",
      " |  __sizeof__(self, /)\n",
      " |      Return the size of the list in memory, in bytes.\n",
      " |  \n",
      " |  append(self, object, /)\n",
      " |      Append object to the end of the list.\n",
      " |  \n",
      " |  clear(self, /)\n",
      " |      Remove all items from list.\n",
      " |  \n",
      " |  copy(self, /)\n",
      " |      Return a shallow copy of the list.\n",
      " |  \n",
      " |  count(self, value, /)\n",
      " |      Return number of occurrences of value.\n",
      " |  \n",
      " |  extend(self, iterable, /)\n",
      " |      Extend list by appending elements from the iterable.\n",
      " |  \n",
      " |  index(self, value, start=0, stop=9223372036854775807, /)\n",
      " |      Return first index of value.\n",
      " |      \n",
      " |      Raises ValueError if the value is not present.\n",
      " |  \n",
      " |  insert(self, index, object, /)\n",
      " |      Insert object before index.\n",
      " |  \n",
      " |  pop(self, index=-1, /)\n",
      " |      Remove and return item at index (default last).\n",
      " |      \n",
      " |      Raises IndexError if list is empty or index is out of range.\n",
      " |  \n",
      " |  remove(self, value, /)\n",
      " |      Remove first occurrence of value.\n",
      " |      \n",
      " |      Raises ValueError if the value is not present.\n",
      " |  \n",
      " |  reverse(self, /)\n",
      " |      Reverse *IN PLACE*.\n",
      " |  \n",
      " |  sort(self, /, *, key=None, reverse=False)\n",
      " |      Sort the list in ascending order and return None.\n",
      " |      \n",
      " |      The sort is in-place (i.e. the list itself is modified) and stable (i.e. the\n",
      " |      order of two equal elements is maintained).\n",
      " |      \n",
      " |      If a key function is given, apply it once to each list item and sort them,\n",
      " |      ascending or descending, according to their function values.\n",
      " |      \n",
      " |      The reverse flag can be set to sort in descending order.\n",
      " |  \n",
      " |  ----------------------------------------------------------------------\n",
      " |  Class methods defined here:\n",
      " |  \n",
      " |  __class_getitem__(...) from builtins.type\n",
      " |      See PEP 585\n",
      " |  \n",
      " |  ----------------------------------------------------------------------\n",
      " |  Static methods defined here:\n",
      " |  \n",
      " |  __new__(*args, **kwargs) from builtins.type\n",
      " |      Create and return a new object.  See help(type) for accurate signature.\n",
      " |  \n",
      " |  ----------------------------------------------------------------------\n",
      " |  Data and other attributes defined here:\n",
      " |  \n",
      " |  __hash__ = None\n",
      "\n",
      "None\n"
     ]
    }
   ],
   "source": [
    "## getting information on classes\n",
    "## one of the best ways to get information\n",
    "## is to input the class name into help\n",
    "print(help(list))"
   ]
  },
  {
   "cell_type": "code",
   "execution_count": 147,
   "id": "62857c49-06fb-4513-a8cc-d079b1059c3e",
   "metadata": {},
   "outputs": [
    {
     "name": "stdout",
     "output_type": "stream",
     "text": [
      "['__class__', '__class_getitem__', '__contains__', '__delattr__', '__delitem__', '__dir__', '__doc__', '__eq__', '__format__', '__ge__', '__getattribute__', '__getitem__', '__gt__', '__hash__', '__init__', '__init_subclass__', '__ior__', '__iter__', '__le__', '__len__', '__lt__', '__ne__', '__new__', '__or__', '__reduce__', '__reduce_ex__', '__repr__', '__reversed__', '__ror__', '__setattr__', '__setitem__', '__sizeof__', '__str__', '__subclasshook__', 'clear', 'copy', 'fromkeys', 'get', 'items', 'keys', 'pop', 'popitem', 'setdefault', 'update', 'values']\n"
     ]
    }
   ],
   "source": [
    "## less understandable way of getting properties and methods\n",
    "print(dir(dict))"
   ]
  },
  {
   "cell_type": "code",
   "execution_count": 53,
   "id": "3e67de7a-c579-4d5a-ba64-7f99401cb1a3",
   "metadata": {},
   "outputs": [
    {
     "name": "stdout",
     "output_type": "stream",
     "text": [
      "This is a string! split = ['This', 'is', 'a', 'string!']\n",
      "This is a string! replace s with a = Thia ia a atring!\n",
      "['T', 'h', 'i', 's', ' ', 'i', 's', ' ', 'a', ' ', 's', 't', 'r', 'i', 'n', 'g', '!'] appended a = None\n"
     ]
    }
   ],
   "source": [
    "## constructing classes\n",
    "## we use the class keyword to create a class\n",
    "class Tutorial():\n",
    "    ## the initializer for the class\n",
    "    def __init__(self, topic='python', level='beginner'):\n",
    "        self.topic = topic\n",
    "        self.level = level\n",
    "    ## we can have string"
   ]
  },
  {
   "cell_type": "code",
   "execution_count": null,
   "id": "5222108f-71ac-428f-be5d-3195c5584b4a",
   "metadata": {},
   "outputs": [],
   "source": []
  }
 ],
 "metadata": {
  "kernelspec": {
   "display_name": "Python 3 (ipykernel)",
   "language": "python",
   "name": "python3"
  },
  "language_info": {
   "codemirror_mode": {
    "name": "ipython",
    "version": 3
   },
   "file_extension": ".py",
   "mimetype": "text/x-python",
   "name": "python",
   "nbconvert_exporter": "python",
   "pygments_lexer": "ipython3",
   "version": "3.9.13"
  }
 },
 "nbformat": 4,
 "nbformat_minor": 5
}
