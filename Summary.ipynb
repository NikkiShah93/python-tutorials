{
 "cells": [
  {
   "cell_type": "markdown",
   "id": "8b5005fc-3cb1-41d1-b515-e323af58375a",
   "metadata": {},
   "source": [
    "## Python Tutorial\n",
    "\n",
    "Why do you need to learn Python?\n",
    "\n",
    "\n",
    "\n",
    "In this course, we will be going through the following topics:\n",
    "1. Getting Started | Setup: Download and Install\n",
    "2. Data Structures\n",
    "3. Operations\n",
    "4. Conditions and Loops\n",
    "5. Functions and Scope\n",
    "6. Modules\n",
    "7. Errors and Exceptions\n",
    "8. Working with Data\n",
    "9. Classes"
   ]
  },
  {
   "cell_type": "markdown",
   "id": "e424f126-c101-473e-ac92-271ae6c47415",
   "metadata": {},
   "source": [
    "### 1. Getting Started\n",
    "\n",
    "Downloading Anaconda\n"
   ]
  },
  {
   "cell_type": "markdown",
   "id": "aa8bf726-1a97-415a-8493-aa300dddae20",
   "metadata": {},
   "source": [
    "### 2. Data Structures\n",
    "\n",
    "numbers, strings, lists, sets, and dictionaries."
   ]
  },
  {
   "cell_type": "code",
   "execution_count": 25,
   "id": "5cf48204-3a4a-47f4-b684-28a1e202bb76",
   "metadata": {},
   "outputs": [
    {
     "name": "stdout",
     "output_type": "stream",
     "text": [
      "variable 1 is of type <class 'int'>\n",
      "variable 2.3 is of type <class 'float'>\n",
      "variable abc is of type <class 'str'>\n",
      "variable True is of type <class 'bool'>\n"
     ]
    }
   ],
   "source": [
    "## we have different data types in python\n",
    "## we have int\n",
    "var_int = 1\n",
    "## float\n",
    "var_float = 2.3\n",
    "## char or string\n",
    "var_str = \"abc\"\n",
    "## boolean\n",
    "var_bo = (1 == 1)\n",
    "print(f\"variable {var_int} is of type {type(var_int)}\")\n",
    "print(f\"variable {var_float} is of type {type(var_float)}\")\n",
    "print(f\"variable {var_str} is of type {type(var_str)}\")\n",
    "print(f\"variable {var_bo} is of type {type(var_bo)}\")"
   ]
  },
  {
   "cell_type": "code",
   "execution_count": 18,
   "id": "4a79bba1-aa0e-4d3e-9eda-1b160ef2c985",
   "metadata": {},
   "outputs": [
    {
     "name": "stdout",
     "output_type": "stream",
     "text": [
      "variable [1, 2, 3, 4] is of type <class 'list'>\n",
      "variable [5, 6, 7, 8, 8] is of type <class 'list'>\n",
      "variable range(0, 10, 2) is of type <class 'range'>\n",
      "variable {8, 5, 6, 7} is of type <class 'set'>\n",
      "variable (2, 4, 6, 7, 9, 9) is of type <class 'tuple'>\n",
      "variable {'key_1': [1, 2, 3, 4], 'key_2': [5, 6, 7, 8, 8]} is of type <class 'dict'>\n",
      "variable {'a': [1, 2, 4], 'b': 0} is of type <class 'dict'>\n"
     ]
    }
   ],
   "source": [
    "## the more useful/important/complicated types\n",
    "## are lists\n",
    "## which are ordered\n",
    "list_1 = list((1,2,3,4))\n",
    "## or\n",
    "list_2 = [5, 6, 7, 8, 8]\n",
    "## sets, which are collection of unique values\n",
    "## unordered\n",
    "set_1 = set(list_2)\n",
    "## tuples, which are similar to lists\n",
    "## ordered\n",
    "tuple_1 = (2, 4, 6, 7, 9, 9)\n",
    "## dictionaries, which are key:value pairs\n",
    "## unordered, but seems to be changed recently\n",
    "dict_1 = dict(key_1=list_1, key_2=list_2)\n",
    "## or\n",
    "dict_2 = {'a':[1, 2, 4],\n",
    "         'b':0}\n",
    "print(f\"variable {list_1} is of type {type(list_1)}\")\n",
    "print(f\"variable {list_2} is of type {type(list_2)}\")\n",
    "print(f\"variable {list_3} is of type {type(list_3)}\")\n",
    "print(f\"variable {set_1} is of type {type(set_1)}\")\n",
    "print(f\"variable {tuple_1} is of type {type(tuple_1)}\")\n",
    "print(f\"variable {dict_1} is of type {type(dict_1)}\")\n",
    "print(f\"variable {dict_2} is of type {type(dict_2)}\")"
   ]
  },
  {
   "cell_type": "markdown",
   "id": "9995fb5a-dc82-4ddb-85d7-2a8f7f7b64a7",
   "metadata": {},
   "source": [
    "### 3. Operations\n",
    "numbers and strings"
   ]
  },
  {
   "cell_type": "code",
   "execution_count": 17,
   "id": "0f17b063-d0d9-4132-9a39-8fb73ab1f5f0",
   "metadata": {},
   "outputs": [
    {
     "name": "stdout",
     "output_type": "stream",
     "text": [
      "operation 2 + 2 result is 4\n",
      "operation 'abc' + 'def' result is abcdef\n",
      "operation 5 - 2 result is 3\n",
      "operation 5 / 2 result is 2.5\n",
      "operation 5 // 2 result is 2\n",
      "operation 5 * 2 result is 10\n",
      "operation 5 % 2 result is 1\n"
     ]
    }
   ],
   "source": [
    "## similar to other languages\n",
    "## or Excel formulas\n",
    "## sum\n",
    "sum_val = 2 + 2\n",
    "## we can also use sum for strings\n",
    "sum_val_s = \"abc\" + \"def\"\n",
    "## sub\n",
    "sub_val = 5 - 2\n",
    "## div\n",
    "## returns float\n",
    "div_val = 5 / 2\n",
    "## floor div\n",
    "div_val_1 = 5 // 2\n",
    "## mul\n",
    "mult_val = 5 * 2\n",
    "## mod\n",
    "mod_val = 5 % 2\n",
    "print(f\"operation 2 + 2 result is {sum_val}\")\n",
    "print(f\"operation 'abc' + 'def' result is {sum_val_s}\")\n",
    "print(f\"operation 5 - 2 result is {sub_val}\")\n",
    "print(f\"operation 5 / 2 result is {div_val}\")\n",
    "print(f\"operation 5 // 2 result is {div_val_1}\")\n",
    "print(f\"operation 5 * 2 result is {mult_val}\")\n",
    "print(f\"operation 5 % 2 result is {mod_val}\")"
   ]
  },
  {
   "cell_type": "markdown",
   "id": "387bcb40-75d0-4afb-ad00-00b6759a4a48",
   "metadata": {},
   "source": [
    "### 4. Conditions and Loops\n",
    "if/else, for, and while loops"
   ]
  },
  {
   "cell_type": "code",
   "execution_count": 35,
   "id": "b8aab999-aa30-450b-bc70-1ab1aca959c3",
   "metadata": {},
   "outputs": [
    {
     "name": "stdout",
     "output_type": "stream",
     "text": [
      "First conditional:\n",
      "a > b\n",
      "\n",
      "Ternary operator result:\n",
      "a > b\n"
     ]
    }
   ],
   "source": [
    "## we can have conditionals in python\n",
    "## using if else statements\n",
    "a = 5\n",
    "b = 2\n",
    "print(\"First conditional:\")\n",
    "if a > b:\n",
    "    print(\"a > b\")\n",
    "else:\n",
    "    print(\"a <= b\")\n",
    "## ternary operator\n",
    "ter_result = \"a > b\" if a > b else \"a <= b\"\n",
    "print(f\"\\nTernary operator result:\\n{ter_result}\")"
   ]
  },
  {
   "cell_type": "code",
   "execution_count": 36,
   "id": "e268e9cd-da55-45c5-a24b-53758143b1a4",
   "metadata": {},
   "outputs": [
    {
     "name": "stdout",
     "output_type": "stream",
     "text": [
      "This is from while loop\n",
      "0 is less than or equal to 5\n",
      "1 is less than or equal to 5\n",
      "2 is less than or equal to 5\n",
      "3 is less than or equal to 5\n",
      "4 is less than or equal to 5\n",
      "5 is less than or equal to 5\n",
      "\n",
      "This is from for loop\n",
      "val is 1\n",
      "val is 2\n",
      "val is 3\n",
      "i is 0\n",
      "i is 2\n",
      "i is 4\n",
      "i is 6\n",
      "i is 8\n"
     ]
    }
   ],
   "source": [
    "## we can iterate over iterables in python\n",
    "## lists, sets, tuples, dictionaries, ranges\n",
    "## are all iterables\n",
    "## there are two types of loops\n",
    "## while, when we want to check a certain condition\n",
    "## not recommended, can be causing infinite loops\n",
    "c = 0\n",
    "print(\"This is from while loop\")\n",
    "while c <= 5:\n",
    "    print(f\"{c} is less than or equal to 5\")\n",
    "    ## adding 1 to c\n",
    "    c += 1\n",
    "## more common type is a for loop\n",
    "print(\"\\nThis is from for loop\")\n",
    "for val in [1, 2, 3]:\n",
    "    print(f\"val is {val}\")\n",
    "## or \n",
    "for i in range(0, 10, 2):\n",
    "    print(f\"i is {i}\")"
   ]
  },
  {
   "cell_type": "code",
   "execution_count": 37,
   "id": "79819309-dbbf-452e-ad6e-99da86f6dac0",
   "metadata": {},
   "outputs": [
    {
     "name": "stdout",
     "output_type": "stream",
     "text": [
      "5 is divisible by 5\n",
      "10 is divisible by 5\n",
      "15 is divisible by 5\n",
      "\n",
      "List comprehension result:\n",
      "[5, 10, 15]\n"
     ]
    }
   ],
   "source": [
    "## combining the conditionals and loops\n",
    "for i in range(1, 20):\n",
    "    if i % 5 == 0:\n",
    "        print(f\"{i} is divisible by 5\")\n",
    "## putting them together with lists\n",
    "## we get list comprehension\n",
    "list_comp = [a for a in range(1, 20) if a % 5 == 0]\n",
    "print(f\"\\nList comprehension result:\\n{list_comp}\")"
   ]
  },
  {
   "cell_type": "code",
   "execution_count": 40,
   "id": "315cb268-d89b-40d7-8082-e451afa5d70a",
   "metadata": {},
   "outputs": [
    {
     "name": "stdout",
     "output_type": "stream",
     "text": [
      "Only getting the keys\n",
      "key is a\n",
      "key is b\n",
      "key is c\n",
      "\n",
      "Getting both key and value\n",
      "The key a is mapped to [1, 2, 3]\n",
      "The key b is mapped to 0\n",
      "The key c is mapped to {'d': 1, 'e': [4, 5, 6]}\n"
     ]
    }
   ],
   "source": [
    "## looping through dictionaries\n",
    "## if we simply use this, we only get the keys\n",
    "dict_3 = {'a':[1, 2, 3], \n",
    "         'b':0,\n",
    "         'c':{'d':1,\n",
    "             'e':[4, 5, 6]}\n",
    "         }\n",
    "print(\"Only getting the keys\")\n",
    "for key in dict_3:\n",
    "    print(f\"key is {key}\")\n",
    "## if we want keys and their values\n",
    "## we have to loop through items\n",
    "print(\"\\nGetting both key and value\")\n",
    "for key, val in dict_3.items():\n",
    "    print(f\"The key {key} is mapped to {val}\")"
   ]
  },
  {
   "cell_type": "markdown",
   "id": "7d758deb-f528-49be-9936-b4a8a18cf619",
   "metadata": {},
   "source": [
    "### 5. Functions and Scope\n",
    "built-in and custom"
   ]
  },
  {
   "cell_type": "code",
   "execution_count": 52,
   "id": "4adfa5f7-a5c3-433c-9205-3ab3b024d0b9",
   "metadata": {},
   "outputs": [
    {
     "name": "stdout",
     "output_type": "stream",
     "text": [
      "['a', 2, True, [1, 3], (5, 6), {'b': 4}] length = 6\n",
      "a length = 1\n",
      "{'b': 4} length = 1\n",
      "Before conversion :This is a string with repeated chars\n",
      "After conversion to set: {'n', 'e', 's', 'c', 'T', ' ', 'w', 'p', 'r', 'd', 'h', 'g', 'a', 'i', 't'}\n",
      "After conversion to list: ['T', 'h', 'i', 's', ' ', 'i', 's', ' ', 'a', ' ', 's', 't', 'r', 'i', 'n', 'g', ' ', 'w', 'i', 't', 'h', ' ', 'r', 'e', 'p', 'e', 'a', 't', 'e', 'd', ' ', 'c', 'h', 'a', 'r', 's']\n"
     ]
    }
   ],
   "source": [
    "## Python built-in functions\n",
    "## we can get the length of any datatype\n",
    "var_list = ['a', 2, True, [1, 3], (5, 6), {'b':4}]\n",
    "print(f\"{var_list} length = {len(var_list)}\")\n",
    "print(f\"{var_list[0]} length = {len(var_list[0])}\")\n",
    "print(f\"{var_list[-1]} length = {len(var_list[-1])}\")\n",
    "## we can convert datatypes to each other\n",
    "var_str = \"This is a string with repeated chars\"\n",
    "var_set = set(var_str)\n",
    "var_list = list(var_str)\n",
    "print(f\"Before conversion :{var_str}\\nAfter conversion to set: {var_set}\")\n",
    "print(f\"After conversion to list: {var_list}\")"
   ]
  },
  {
   "cell_type": "markdown",
   "id": "8a2857d8-aa05-4086-9f61-8d7e96e9a080",
   "metadata": {},
   "source": [
    "### 6. Modules\n",
    "importing and creating"
   ]
  },
  {
   "cell_type": "markdown",
   "id": "559fe18d-921b-464d-9dfa-774d65195db9",
   "metadata": {},
   "source": [
    "### 7. Errors and Exceptions\n",
    "how to understand and handle them"
   ]
  },
  {
   "cell_type": "markdown",
   "id": "271c023b-48b2-4a43-a760-5515fa5b852f",
   "metadata": {},
   "source": [
    "### 8. Working with Data\n",
    "reading and writing"
   ]
  },
  {
   "cell_type": "markdown",
   "id": "6925de59-5534-47b6-bf73-1546eadab9c9",
   "metadata": {},
   "source": [
    "### 9. Classes\n",
    "objects, inheritance, and decorators"
   ]
  },
  {
   "cell_type": "code",
   "execution_count": 53,
   "id": "3e67de7a-c579-4d5a-ba64-7f99401cb1a3",
   "metadata": {},
   "outputs": [
    {
     "name": "stdout",
     "output_type": "stream",
     "text": [
      "This is a string! split = ['This', 'is', 'a', 'string!']\n",
      "This is a string! replace s with a = Thia ia a atring!\n",
      "['T', 'h', 'i', 's', ' ', 'i', 's', ' ', 'a', ' ', 's', 't', 'r', 'i', 'n', 'g', '!'] appended a = None\n"
     ]
    }
   ],
   "source": [
    "## using string as a class\n",
    "var_str = \"This is a string!\"\n",
    "## we can split the strings\n",
    "## by space (default) or any other character\n",
    "print(f\"{var_str} split = {var_str.split()}\")\n",
    "## we can replace letter/words \n",
    "print(f\"{var_str} replace s with a = {var_str.replace('s', 'a')}\")\n",
    "## using list as class\n",
    "var_list = list(var_str)\n",
    "print(f\"{var_list} appended a = {var_list.append('a')}\")"
   ]
  },
  {
   "cell_type": "code",
   "execution_count": null,
   "id": "5222108f-71ac-428f-be5d-3195c5584b4a",
   "metadata": {},
   "outputs": [],
   "source": []
  }
 ],
 "metadata": {
  "kernelspec": {
   "display_name": "Python 3 (ipykernel)",
   "language": "python",
   "name": "python3"
  },
  "language_info": {
   "codemirror_mode": {
    "name": "ipython",
    "version": 3
   },
   "file_extension": ".py",
   "mimetype": "text/x-python",
   "name": "python",
   "nbconvert_exporter": "python",
   "pygments_lexer": "ipython3",
   "version": "3.9.13"
  }
 },
 "nbformat": 4,
 "nbformat_minor": 5
}
