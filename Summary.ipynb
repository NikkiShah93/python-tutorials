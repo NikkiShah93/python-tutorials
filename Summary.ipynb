{
 "cells": [
  {
   "cell_type": "markdown",
   "id": "8b5005fc-3cb1-41d1-b515-e323af58375a",
   "metadata": {},
   "source": [
    "## Python Tutorial\n",
    "\n",
    "In this course, we will be going through the following topics:\n",
    "1. Setup: Download and Install\n",
    "2. Data Structures\n",
    "3. Conditions and Loops\n",
    "4. Functions\n",
    "5. Modules\n",
    "6. Errors and Exceptions\n",
    "7. Working with Data\n",
    "8. Classes"
   ]
  },
  {
   "cell_type": "code",
   "execution_count": null,
   "id": "c0504661-17ae-4b5e-886e-e84f7dc30e83",
   "metadata": {},
   "outputs": [],
   "source": []
  }
 ],
 "metadata": {
  "kernelspec": {
   "display_name": "Python 3 (ipykernel)",
   "language": "python",
   "name": "python3"
  },
  "language_info": {
   "codemirror_mode": {
    "name": "ipython",
    "version": 3
   },
   "file_extension": ".py",
   "mimetype": "text/x-python",
   "name": "python",
   "nbconvert_exporter": "python",
   "pygments_lexer": "ipython3",
   "version": "3.9.13"
  }
 },
 "nbformat": 4,
 "nbformat_minor": 5
}
